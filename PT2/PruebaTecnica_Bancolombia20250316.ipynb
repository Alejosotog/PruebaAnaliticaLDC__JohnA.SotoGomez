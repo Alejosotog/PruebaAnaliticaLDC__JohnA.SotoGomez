{
  "cells": [
    {
      "cell_type": "markdown",
      "metadata": {
        "id": "view-in-github",
        "colab_type": "text"
      },
      "source": [
        "<a href=\"https://colab.research.google.com/github/Alejosotog/PruebaAnaliticaLDC__JohnA.SotoGomez/blob/main/PT2/PruebaTecnica_Bancolombia20250316.ipynb\" target=\"_parent\"><img src=\"https://colab.research.google.com/assets/colab-badge.svg\" alt=\"Open In Colab\"/></a>"
      ]
    },
    {
      "cell_type": "markdown",
      "metadata": {
        "id": "uNvcjF53vS5-"
      },
      "source": [
        "# Prueba analítica: Segmentación LAFT\n",
        "\n",
        "# Prueba analítica LDC Ciencia de datos cumplimiento\n",
        "\n",
        "\n",
        "---\n",
        "John Alejandro Soto Gómez\n",
        "--\n",
        "- Candidato el cargo cientifico de Datos\n",
        "\n",
        "- Empresa: Bancolombia\n",
        "\n",
        "- Duración de prueba: 2025-03-14 a 2025-03-17\n",
        "\n",
        "- Fecha límite de entrega: 2025-03-17 (Hora máx. 11:59am)\n",
        "\n",
        "\n",
        "---\n",
        "\n",
        "\n",
        "Base de datos:\n",
        "\n",
        "Ubicación local: insumo_prueba.xlsx\n",
        "\n",
        "Caracterización del dataset: 1 archivo insumo_prueba.xlsx\n",
        "\n",
        "Size: 28.8KB\n",
        "\n",
        "Dimensión del dataframe: 433 filas x 6 columnas.\n",
        "\n",
        "---\n",
        "Objetivo:\n",
        "--\n",
        "Evaluar la capacidad para abordar un problema de clasificación de texto con poca información, incluyendo el flujo completo de carga, procesamiento, transformación, entrenamiento, y despliegue de un modelo, siguiendo buenas prácticas de MLOps\n"
      ]
    },
    {
      "cell_type": "markdown",
      "source": [
        "# Identificación de los datos y Análisis Exploratorio de Datos"
      ],
      "metadata": {
        "id": "imGcFSlkxM7L"
      }
    },
    {
      "cell_type": "markdown",
      "metadata": {
        "id": "4k8eN2HHvS6C"
      },
      "source": [
        "- Cargamos librerías necesarias"
      ]
    },
    {
      "cell_type": "code",
      "execution_count": 3,
      "metadata": {
        "id": "xCz3-Te3vS6D"
      },
      "outputs": [],
      "source": [
        "import pandas as pd\n",
        "import numpy as np\n",
        "import seaborn as sns\n",
        "import matplotlib.pyplot as plt\n",
        "from sklearn.model_selection import train_test_split\n",
        "from google.colab import drive\n",
        "from sklearn.feature_extraction.text import TfidfVectorizer\n",
        "from sklearn.ensemble import RandomForestClassifier\n",
        "from sklearn.metrics import classification_report, confusion_matrix"
      ]
    },
    {
      "cell_type": "markdown",
      "metadata": {
        "id": "TneEuOq6vS6E"
      },
      "source": [
        "Carga del dataset"
      ]
    },
    {
      "cell_type": "code",
      "execution_count": 8,
      "metadata": {
        "colab": {
          "base_uri": "https://localhost:8080/",
          "height": 264
        },
        "id": "Wf9aAcQmvS6F",
        "outputId": "867cd7a3-f036-4c14-a718-ce9b962c2508"
      },
      "outputs": [
        {
          "output_type": "stream",
          "name": "stdout",
          "text": [
            "Drive already mounted at /content/drive; to attempt to forcibly remount, call drive.mount(\"/content/drive\", force_remount=True).\n"
          ]
        },
        {
          "output_type": "execute_result",
          "data": {
            "text/plain": [
              "                                           Controles Riesgo 1 Riesgo 2  \\\n",
              "0  Verificar/Corregir observaciones/comentarios d...       Si       No   \n",
              "1              Verificar todos los soportes legales        No       Si   \n",
              "2            Verificar todos los documentos legales        No       Si   \n",
              "3  Verificar si el acuerdo generado cumple las co...       No       No   \n",
              "4  Verificar si el acuerdo firmado cumple condici...       No       No   \n",
              "\n",
              "  Riesgo 3 Riesgo 4 Riesgo 5  \n",
              "0       No       No       No  \n",
              "1       Si       No       No  \n",
              "2       Si       No       No  \n",
              "3       Si       No       No  \n",
              "4       Si       No       No  "
            ],
            "text/html": [
              "\n",
              "  <div id=\"df-2d04481f-d6af-4f4f-8a32-c7e0b1bec65d\" class=\"colab-df-container\">\n",
              "    <div>\n",
              "<style scoped>\n",
              "    .dataframe tbody tr th:only-of-type {\n",
              "        vertical-align: middle;\n",
              "    }\n",
              "\n",
              "    .dataframe tbody tr th {\n",
              "        vertical-align: top;\n",
              "    }\n",
              "\n",
              "    .dataframe thead th {\n",
              "        text-align: right;\n",
              "    }\n",
              "</style>\n",
              "<table border=\"1\" class=\"dataframe\">\n",
              "  <thead>\n",
              "    <tr style=\"text-align: right;\">\n",
              "      <th></th>\n",
              "      <th>Controles</th>\n",
              "      <th>Riesgo 1</th>\n",
              "      <th>Riesgo 2</th>\n",
              "      <th>Riesgo 3</th>\n",
              "      <th>Riesgo 4</th>\n",
              "      <th>Riesgo 5</th>\n",
              "    </tr>\n",
              "  </thead>\n",
              "  <tbody>\n",
              "    <tr>\n",
              "      <th>0</th>\n",
              "      <td>Verificar/Corregir observaciones/comentarios d...</td>\n",
              "      <td>Si</td>\n",
              "      <td>No</td>\n",
              "      <td>No</td>\n",
              "      <td>No</td>\n",
              "      <td>No</td>\n",
              "    </tr>\n",
              "    <tr>\n",
              "      <th>1</th>\n",
              "      <td>Verificar todos los soportes legales</td>\n",
              "      <td>No</td>\n",
              "      <td>Si</td>\n",
              "      <td>Si</td>\n",
              "      <td>No</td>\n",
              "      <td>No</td>\n",
              "    </tr>\n",
              "    <tr>\n",
              "      <th>2</th>\n",
              "      <td>Verificar todos los documentos legales</td>\n",
              "      <td>No</td>\n",
              "      <td>Si</td>\n",
              "      <td>Si</td>\n",
              "      <td>No</td>\n",
              "      <td>No</td>\n",
              "    </tr>\n",
              "    <tr>\n",
              "      <th>3</th>\n",
              "      <td>Verificar si el acuerdo generado cumple las co...</td>\n",
              "      <td>No</td>\n",
              "      <td>No</td>\n",
              "      <td>Si</td>\n",
              "      <td>No</td>\n",
              "      <td>No</td>\n",
              "    </tr>\n",
              "    <tr>\n",
              "      <th>4</th>\n",
              "      <td>Verificar si el acuerdo firmado cumple condici...</td>\n",
              "      <td>No</td>\n",
              "      <td>No</td>\n",
              "      <td>Si</td>\n",
              "      <td>No</td>\n",
              "      <td>No</td>\n",
              "    </tr>\n",
              "  </tbody>\n",
              "</table>\n",
              "</div>\n",
              "    <div class=\"colab-df-buttons\">\n",
              "\n",
              "  <div class=\"colab-df-container\">\n",
              "    <button class=\"colab-df-convert\" onclick=\"convertToInteractive('df-2d04481f-d6af-4f4f-8a32-c7e0b1bec65d')\"\n",
              "            title=\"Convert this dataframe to an interactive table.\"\n",
              "            style=\"display:none;\">\n",
              "\n",
              "  <svg xmlns=\"http://www.w3.org/2000/svg\" height=\"24px\" viewBox=\"0 -960 960 960\">\n",
              "    <path d=\"M120-120v-720h720v720H120Zm60-500h600v-160H180v160Zm220 220h160v-160H400v160Zm0 220h160v-160H400v160ZM180-400h160v-160H180v160Zm440 0h160v-160H620v160ZM180-180h160v-160H180v160Zm440 0h160v-160H620v160Z\"/>\n",
              "  </svg>\n",
              "    </button>\n",
              "\n",
              "  <style>\n",
              "    .colab-df-container {\n",
              "      display:flex;\n",
              "      gap: 12px;\n",
              "    }\n",
              "\n",
              "    .colab-df-convert {\n",
              "      background-color: #E8F0FE;\n",
              "      border: none;\n",
              "      border-radius: 50%;\n",
              "      cursor: pointer;\n",
              "      display: none;\n",
              "      fill: #1967D2;\n",
              "      height: 32px;\n",
              "      padding: 0 0 0 0;\n",
              "      width: 32px;\n",
              "    }\n",
              "\n",
              "    .colab-df-convert:hover {\n",
              "      background-color: #E2EBFA;\n",
              "      box-shadow: 0px 1px 2px rgba(60, 64, 67, 0.3), 0px 1px 3px 1px rgba(60, 64, 67, 0.15);\n",
              "      fill: #174EA6;\n",
              "    }\n",
              "\n",
              "    .colab-df-buttons div {\n",
              "      margin-bottom: 4px;\n",
              "    }\n",
              "\n",
              "    [theme=dark] .colab-df-convert {\n",
              "      background-color: #3B4455;\n",
              "      fill: #D2E3FC;\n",
              "    }\n",
              "\n",
              "    [theme=dark] .colab-df-convert:hover {\n",
              "      background-color: #434B5C;\n",
              "      box-shadow: 0px 1px 3px 1px rgba(0, 0, 0, 0.15);\n",
              "      filter: drop-shadow(0px 1px 2px rgba(0, 0, 0, 0.3));\n",
              "      fill: #FFFFFF;\n",
              "    }\n",
              "  </style>\n",
              "\n",
              "    <script>\n",
              "      const buttonEl =\n",
              "        document.querySelector('#df-2d04481f-d6af-4f4f-8a32-c7e0b1bec65d button.colab-df-convert');\n",
              "      buttonEl.style.display =\n",
              "        google.colab.kernel.accessAllowed ? 'block' : 'none';\n",
              "\n",
              "      async function convertToInteractive(key) {\n",
              "        const element = document.querySelector('#df-2d04481f-d6af-4f4f-8a32-c7e0b1bec65d');\n",
              "        const dataTable =\n",
              "          await google.colab.kernel.invokeFunction('convertToInteractive',\n",
              "                                                    [key], {});\n",
              "        if (!dataTable) return;\n",
              "\n",
              "        const docLinkHtml = 'Like what you see? Visit the ' +\n",
              "          '<a target=\"_blank\" href=https://colab.research.google.com/notebooks/data_table.ipynb>data table notebook</a>'\n",
              "          + ' to learn more about interactive tables.';\n",
              "        element.innerHTML = '';\n",
              "        dataTable['output_type'] = 'display_data';\n",
              "        await google.colab.output.renderOutput(dataTable, element);\n",
              "        const docLink = document.createElement('div');\n",
              "        docLink.innerHTML = docLinkHtml;\n",
              "        element.appendChild(docLink);\n",
              "      }\n",
              "    </script>\n",
              "  </div>\n",
              "\n",
              "\n",
              "<div id=\"df-ee5a3972-5cf0-4bcc-8420-8c6df812dbbe\">\n",
              "  <button class=\"colab-df-quickchart\" onclick=\"quickchart('df-ee5a3972-5cf0-4bcc-8420-8c6df812dbbe')\"\n",
              "            title=\"Suggest charts\"\n",
              "            style=\"display:none;\">\n",
              "\n",
              "<svg xmlns=\"http://www.w3.org/2000/svg\" height=\"24px\"viewBox=\"0 0 24 24\"\n",
              "     width=\"24px\">\n",
              "    <g>\n",
              "        <path d=\"M19 3H5c-1.1 0-2 .9-2 2v14c0 1.1.9 2 2 2h14c1.1 0 2-.9 2-2V5c0-1.1-.9-2-2-2zM9 17H7v-7h2v7zm4 0h-2V7h2v10zm4 0h-2v-4h2v4z\"/>\n",
              "    </g>\n",
              "</svg>\n",
              "  </button>\n",
              "\n",
              "<style>\n",
              "  .colab-df-quickchart {\n",
              "      --bg-color: #E8F0FE;\n",
              "      --fill-color: #1967D2;\n",
              "      --hover-bg-color: #E2EBFA;\n",
              "      --hover-fill-color: #174EA6;\n",
              "      --disabled-fill-color: #AAA;\n",
              "      --disabled-bg-color: #DDD;\n",
              "  }\n",
              "\n",
              "  [theme=dark] .colab-df-quickchart {\n",
              "      --bg-color: #3B4455;\n",
              "      --fill-color: #D2E3FC;\n",
              "      --hover-bg-color: #434B5C;\n",
              "      --hover-fill-color: #FFFFFF;\n",
              "      --disabled-bg-color: #3B4455;\n",
              "      --disabled-fill-color: #666;\n",
              "  }\n",
              "\n",
              "  .colab-df-quickchart {\n",
              "    background-color: var(--bg-color);\n",
              "    border: none;\n",
              "    border-radius: 50%;\n",
              "    cursor: pointer;\n",
              "    display: none;\n",
              "    fill: var(--fill-color);\n",
              "    height: 32px;\n",
              "    padding: 0;\n",
              "    width: 32px;\n",
              "  }\n",
              "\n",
              "  .colab-df-quickchart:hover {\n",
              "    background-color: var(--hover-bg-color);\n",
              "    box-shadow: 0 1px 2px rgba(60, 64, 67, 0.3), 0 1px 3px 1px rgba(60, 64, 67, 0.15);\n",
              "    fill: var(--button-hover-fill-color);\n",
              "  }\n",
              "\n",
              "  .colab-df-quickchart-complete:disabled,\n",
              "  .colab-df-quickchart-complete:disabled:hover {\n",
              "    background-color: var(--disabled-bg-color);\n",
              "    fill: var(--disabled-fill-color);\n",
              "    box-shadow: none;\n",
              "  }\n",
              "\n",
              "  .colab-df-spinner {\n",
              "    border: 2px solid var(--fill-color);\n",
              "    border-color: transparent;\n",
              "    border-bottom-color: var(--fill-color);\n",
              "    animation:\n",
              "      spin 1s steps(1) infinite;\n",
              "  }\n",
              "\n",
              "  @keyframes spin {\n",
              "    0% {\n",
              "      border-color: transparent;\n",
              "      border-bottom-color: var(--fill-color);\n",
              "      border-left-color: var(--fill-color);\n",
              "    }\n",
              "    20% {\n",
              "      border-color: transparent;\n",
              "      border-left-color: var(--fill-color);\n",
              "      border-top-color: var(--fill-color);\n",
              "    }\n",
              "    30% {\n",
              "      border-color: transparent;\n",
              "      border-left-color: var(--fill-color);\n",
              "      border-top-color: var(--fill-color);\n",
              "      border-right-color: var(--fill-color);\n",
              "    }\n",
              "    40% {\n",
              "      border-color: transparent;\n",
              "      border-right-color: var(--fill-color);\n",
              "      border-top-color: var(--fill-color);\n",
              "    }\n",
              "    60% {\n",
              "      border-color: transparent;\n",
              "      border-right-color: var(--fill-color);\n",
              "    }\n",
              "    80% {\n",
              "      border-color: transparent;\n",
              "      border-right-color: var(--fill-color);\n",
              "      border-bottom-color: var(--fill-color);\n",
              "    }\n",
              "    90% {\n",
              "      border-color: transparent;\n",
              "      border-bottom-color: var(--fill-color);\n",
              "    }\n",
              "  }\n",
              "</style>\n",
              "\n",
              "  <script>\n",
              "    async function quickchart(key) {\n",
              "      const quickchartButtonEl =\n",
              "        document.querySelector('#' + key + ' button');\n",
              "      quickchartButtonEl.disabled = true;  // To prevent multiple clicks.\n",
              "      quickchartButtonEl.classList.add('colab-df-spinner');\n",
              "      try {\n",
              "        const charts = await google.colab.kernel.invokeFunction(\n",
              "            'suggestCharts', [key], {});\n",
              "      } catch (error) {\n",
              "        console.error('Error during call to suggestCharts:', error);\n",
              "      }\n",
              "      quickchartButtonEl.classList.remove('colab-df-spinner');\n",
              "      quickchartButtonEl.classList.add('colab-df-quickchart-complete');\n",
              "    }\n",
              "    (() => {\n",
              "      let quickchartButtonEl =\n",
              "        document.querySelector('#df-ee5a3972-5cf0-4bcc-8420-8c6df812dbbe button');\n",
              "      quickchartButtonEl.style.display =\n",
              "        google.colab.kernel.accessAllowed ? 'block' : 'none';\n",
              "    })();\n",
              "  </script>\n",
              "</div>\n",
              "\n",
              "    </div>\n",
              "  </div>\n"
            ],
            "application/vnd.google.colaboratory.intrinsic+json": {
              "type": "dataframe",
              "variable_name": "df",
              "summary": "{\n  \"name\": \"df\",\n  \"rows\": 433,\n  \"fields\": [\n    {\n      \"column\": \"Controles\",\n      \"properties\": {\n        \"dtype\": \"string\",\n        \"num_unique_values\": 433,\n        \"samples\": [\n          \"Monitorear la exactitud y completitud de la informaci\\u00f3n\",\n          \"Validar que las condiciones negociadas est\\u00e9n correctamente expuestas en el documento\",\n          \"Revisar las condiciones para ofrecer el producto\"\n        ],\n        \"semantic_type\": \"\",\n        \"description\": \"\"\n      }\n    },\n    {\n      \"column\": \"Riesgo 1\",\n      \"properties\": {\n        \"dtype\": \"category\",\n        \"num_unique_values\": 2,\n        \"samples\": [\n          \"No\",\n          \"Si\"\n        ],\n        \"semantic_type\": \"\",\n        \"description\": \"\"\n      }\n    },\n    {\n      \"column\": \"Riesgo 2\",\n      \"properties\": {\n        \"dtype\": \"category\",\n        \"num_unique_values\": 2,\n        \"samples\": [\n          \"Si\",\n          \"No\"\n        ],\n        \"semantic_type\": \"\",\n        \"description\": \"\"\n      }\n    },\n    {\n      \"column\": \"Riesgo 3\",\n      \"properties\": {\n        \"dtype\": \"category\",\n        \"num_unique_values\": 2,\n        \"samples\": [\n          \"Si\",\n          \"No\"\n        ],\n        \"semantic_type\": \"\",\n        \"description\": \"\"\n      }\n    },\n    {\n      \"column\": \"Riesgo 4\",\n      \"properties\": {\n        \"dtype\": \"category\",\n        \"num_unique_values\": 2,\n        \"samples\": [\n          \"Si\",\n          \"No\"\n        ],\n        \"semantic_type\": \"\",\n        \"description\": \"\"\n      }\n    },\n    {\n      \"column\": \"Riesgo 5\",\n      \"properties\": {\n        \"dtype\": \"category\",\n        \"num_unique_values\": 2,\n        \"samples\": [\n          \"Si\",\n          \"No\"\n        ],\n        \"semantic_type\": \"\",\n        \"description\": \"\"\n      }\n    }\n  ]\n}"
            }
          },
          "metadata": {},
          "execution_count": 8
        }
      ],
      "source": [
        "# Montar Google Drive\n",
        "drive.mount('/content/drive')\n",
        "\n",
        "# Ruta del archivo en Google Drive (ajustar según la ubicación real)\n",
        "file_path = \"/content/drive/My Drive/PruebaTecnica_Bancolombia20230316/insumo_prueba.xlsx\"\n",
        "\n",
        "# Cargar el archivo en un DataFrame\n",
        "df = pd.read_excel(file_path)\n",
        "\n",
        "# Ver las primeras filas del DataFrame\n",
        "df.head()"
      ]
    },
    {
      "cell_type": "markdown",
      "metadata": {
        "id": "sXHmml7AvS6F"
      },
      "source": [
        "Revisión de la primeras filas"
      ]
    },
    {
      "cell_type": "code",
      "execution_count": 9,
      "metadata": {
        "id": "ENcUZRC3vS6F",
        "outputId": "8dc3e53c-9bc6-4fe7-fa53-4787e17d1932",
        "colab": {
          "base_uri": "https://localhost:8080/"
        }
      },
      "outputs": [
        {
          "output_type": "stream",
          "name": "stdout",
          "text": [
            "                                           Controles Riesgo 1 Riesgo 2  \\\n",
            "0  Verificar/Corregir observaciones/comentarios d...       Si       No   \n",
            "1              Verificar todos los soportes legales        No       Si   \n",
            "2            Verificar todos los documentos legales        No       Si   \n",
            "3  Verificar si el acuerdo generado cumple las co...       No       No   \n",
            "4  Verificar si el acuerdo firmado cumple condici...       No       No   \n",
            "\n",
            "  Riesgo 3 Riesgo 4 Riesgo 5  \n",
            "0       No       No       No  \n",
            "1       Si       No       No  \n",
            "2       Si       No       No  \n",
            "3       Si       No       No  \n",
            "4       Si       No       No  \n"
          ]
        }
      ],
      "source": [
        "print(df.head())"
      ]
    },
    {
      "cell_type": "markdown",
      "metadata": {
        "id": "I-aWgZRyvS6H"
      },
      "source": [
        "Verificación de la información del dataset"
      ]
    },
    {
      "cell_type": "code",
      "execution_count": 11,
      "metadata": {
        "id": "mcIPYh46vS6H",
        "outputId": "8837df79-1601-464d-aa71-7524ec9bb761",
        "colab": {
          "base_uri": "https://localhost:8080/"
        }
      },
      "outputs": [
        {
          "output_type": "stream",
          "name": "stdout",
          "text": [
            "<class 'pandas.core.frame.DataFrame'>\n",
            "RangeIndex: 433 entries, 0 to 432\n",
            "Data columns (total 6 columns):\n",
            " #   Column     Non-Null Count  Dtype \n",
            "---  ------     --------------  ----- \n",
            " 0   Controles  433 non-null    object\n",
            " 1   Riesgo 1   433 non-null    object\n",
            " 2   Riesgo 2   433 non-null    object\n",
            " 3   Riesgo 3   433 non-null    object\n",
            " 4   Riesgo 4   433 non-null    object\n",
            " 5   Riesgo 5   433 non-null    object\n",
            "dtypes: object(6)\n",
            "memory usage: 20.4+ KB\n",
            "None\n"
          ]
        }
      ],
      "source": [
        "print(df.info())"
      ]
    },
    {
      "cell_type": "markdown",
      "metadata": {
        "id": "lUCggqO9vS6I"
      },
      "source": [
        "Renombramiento de columnas"
      ]
    },
    {
      "cell_type": "code",
      "execution_count": 12,
      "metadata": {
        "id": "H4ry7uC5vS6I",
        "outputId": "4853d3fb-2779-4366-b485-e3b45c713c94",
        "colab": {
          "base_uri": "https://localhost:8080/"
        }
      },
      "outputs": [
        {
          "output_type": "stream",
          "name": "stdout",
          "text": [
            "                                           controles riesgo_1 riesgo_2  \\\n",
            "0  Verificar/Corregir observaciones/comentarios d...       Si       No   \n",
            "1              Verificar todos los soportes legales        No       Si   \n",
            "2            Verificar todos los documentos legales        No       Si   \n",
            "3  Verificar si el acuerdo generado cumple las co...       No       No   \n",
            "4  Verificar si el acuerdo firmado cumple condici...       No       No   \n",
            "\n",
            "  riesgo_3 riesgo_4 riesgo_5  \n",
            "0       No       No       No  \n",
            "1       Si       No       No  \n",
            "2       Si       No       No  \n",
            "3       Si       No       No  \n",
            "4       Si       No       No  \n"
          ]
        }
      ],
      "source": [
        "df.columns = df.columns.str.strip().str.lower().str.replace(\" \", \"_\")\n",
        "print(df.head())"
      ]
    },
    {
      "cell_type": "markdown",
      "metadata": {
        "id": "e8AyHhsLvS6J"
      },
      "source": [
        "Con lo anterior, elimina espacios y normalizamos los nombres de las columnas"
      ]
    },
    {
      "cell_type": "markdown",
      "metadata": {
        "id": "QDU45gggvS6J"
      },
      "source": [
        "- Verificamos si tenemos valores nulos"
      ]
    },
    {
      "cell_type": "code",
      "execution_count": 13,
      "metadata": {
        "id": "eJK5bCSBvS6J",
        "outputId": "db8d1c95-d566-4a38-eb17-a695df63f1de",
        "colab": {
          "base_uri": "https://localhost:8080/"
        }
      },
      "outputs": [
        {
          "output_type": "stream",
          "name": "stdout",
          "text": [
            "controles    0\n",
            "riesgo_1     0\n",
            "riesgo_2     0\n",
            "riesgo_3     0\n",
            "riesgo_4     0\n",
            "riesgo_5     0\n",
            "dtype: int64\n"
          ]
        }
      ],
      "source": [
        "print(df.isnull().sum())\n"
      ]
    },
    {
      "cell_type": "markdown",
      "metadata": {
        "id": "KDAuyrRqvS6K"
      },
      "source": [
        "Es de notar que incluso al tener variables categoricas no se presentan valores nulos"
      ]
    },
    {
      "cell_type": "markdown",
      "metadata": {
        "id": "NW0F5kCivS6K"
      },
      "source": [
        "- Convertimos valores de texto a formato consistente ( texto a minúsculas y eliminamos espacios adicionales)"
      ]
    },
    {
      "cell_type": "code",
      "execution_count": 15,
      "metadata": {
        "id": "1zCXkIg-vS6K",
        "outputId": "c065202b-9e56-4c64-e80a-20a11f59a23f",
        "colab": {
          "base_uri": "https://localhost:8080/"
        }
      },
      "outputs": [
        {
          "output_type": "stream",
          "name": "stdout",
          "text": [
            "                                             controles riesgo_1 riesgo_2  \\\n",
            "0    verificar/corregir observaciones/comentarios d...       si       no   \n",
            "1                 verificar todos los soportes legales       no       si   \n",
            "2               verificar todos los documentos legales       no       si   \n",
            "3    verificar si el acuerdo generado cumple las co...       no       no   \n",
            "4    verificar si el acuerdo firmado cumple condici...       no       no   \n",
            "..                                                 ...      ...      ...   \n",
            "428                               establecer políticas       no       no   \n",
            "429  definir cláusula de declaración de conflictos ...       no       no   \n",
            "430  definir comités especializados que supervisen ...       si       no   \n",
            "431  definir y documentar protocolos claros para la...       no       no   \n",
            "432                              monitoreo de bloqueos       no       no   \n",
            "\n",
            "    riesgo_3 riesgo_4 riesgo_5  \n",
            "0         no       no       no  \n",
            "1         si       no       no  \n",
            "2         si       no       no  \n",
            "3         si       no       no  \n",
            "4         si       no       no  \n",
            "..       ...      ...      ...  \n",
            "428       si       no       no  \n",
            "429       no       no       no  \n",
            "430       no       no       no  \n",
            "431       no       si       no  \n",
            "432       si       no       no  \n",
            "\n",
            "[433 rows x 6 columns]\n"
          ]
        }
      ],
      "source": [
        "df = df.apply(lambda x: x.str.strip().str.lower() if x.dtype == \"object\" else x)\n",
        "print(df)"
      ]
    },
    {
      "cell_type": "markdown",
      "metadata": {
        "id": "xyUht2ntvS6K"
      },
      "source": [
        "- A continuación, identificamos y eliminamos duplicados"
      ]
    },
    {
      "cell_type": "code",
      "execution_count": 16,
      "metadata": {
        "id": "RDa2QtYXvS6K",
        "outputId": "e0449a0d-59b7-4823-f530-e02fdf6b376c",
        "colab": {
          "base_uri": "https://localhost:8080/"
        }
      },
      "outputs": [
        {
          "output_type": "stream",
          "name": "stdout",
          "text": [
            "                                             controles riesgo_1 riesgo_2  \\\n",
            "0    verificar/corregir observaciones/comentarios d...       si       no   \n",
            "1                 verificar todos los soportes legales       no       si   \n",
            "2               verificar todos los documentos legales       no       si   \n",
            "3    verificar si el acuerdo generado cumple las co...       no       no   \n",
            "4    verificar si el acuerdo firmado cumple condici...       no       no   \n",
            "..                                                 ...      ...      ...   \n",
            "428                               establecer políticas       no       no   \n",
            "429  definir cláusula de declaración de conflictos ...       no       no   \n",
            "430  definir comités especializados que supervisen ...       si       no   \n",
            "431  definir y documentar protocolos claros para la...       no       no   \n",
            "432                              monitoreo de bloqueos       no       no   \n",
            "\n",
            "    riesgo_3 riesgo_4 riesgo_5  \n",
            "0         no       no       no  \n",
            "1         si       no       no  \n",
            "2         si       no       no  \n",
            "3         si       no       no  \n",
            "4         si       no       no  \n",
            "..       ...      ...      ...  \n",
            "428       si       no       no  \n",
            "429       no       no       no  \n",
            "430       no       no       no  \n",
            "431       no       si       no  \n",
            "432       si       no       no  \n",
            "\n",
            "[433 rows x 6 columns]\n"
          ]
        }
      ],
      "source": [
        "df.drop_duplicates(inplace=True)\n",
        "print(df)"
      ]
    },
    {
      "cell_type": "markdown",
      "source": [
        "- Revisamos la cantidad de riesgos en Si y en No para cada uno y su respectivo tipo de datos."
      ],
      "metadata": {
        "id": "nGCpcVeZ3q86"
      }
    },
    {
      "cell_type": "code",
      "execution_count": 19,
      "metadata": {
        "id": "VgEOQGJsvS6L",
        "outputId": "ee9682ff-d239-4087-dd5a-c3982f9ac85c",
        "colab": {
          "base_uri": "https://localhost:8080/"
        }
      },
      "outputs": [
        {
          "output_type": "stream",
          "name": "stdout",
          "text": [
            "    Riesgo 1  Riesgo 2  Riesgo 3  Riesgo 4  Riesgo 5\n",
            "no       331       354       292       381       400\n",
            "si       102        79       141        52        33\n",
            "\n",
            "Tipos de datos:\n",
            "riesgo_1    object\n",
            "riesgo_2    object\n",
            "riesgo_3    object\n",
            "riesgo_4    object\n",
            "riesgo_5    object\n",
            "dtype: object\n"
          ]
        }
      ],
      "source": [
        "conteos = pd.concat([\n",
        "    df[\"riesgo_1\"].value_counts(),\n",
        "    df[\"riesgo_2\"].value_counts(),\n",
        "    df[\"riesgo_3\"].value_counts(),\n",
        "    df[\"riesgo_4\"].value_counts(),\n",
        "    df[\"riesgo_5\"].value_counts()\n",
        "], axis=1)\n",
        "\n",
        "conteos.columns = [\"Riesgo 1\", \"Riesgo 2\", \"Riesgo 3\", \"Riesgo 4\", \"Riesgo 5\"]\n",
        "\n",
        "# Mostramos los dtypes de cada columna\n",
        "dtypes = df[[\"riesgo_1\", \"riesgo_2\", \"riesgo_3\", \"riesgo_4\", \"riesgo_5\"]].dtypes\n",
        "\n",
        "print(conteos)\n",
        "print(\"\\nTipos de datos:\")\n",
        "print(dtypes)\n"
      ]
    },
    {
      "cell_type": "markdown",
      "source": [
        "Del resultado anterior, vemos que hay controles que tienen en su mayoria el Riesgo 1 con 141, seguido del Riesgo 1 con 102."
      ],
      "metadata": {
        "id": "IWahwER74ARj"
      }
    },
    {
      "cell_type": "markdown",
      "metadata": {
        "id": "7lQxeJOcvS6L"
      },
      "source": [
        "- Normalizamos los valores categóricos (Es claro que todos son valores categoricos, sin embargo normalizamos) para evitar confusiones en el Dataframe definitivo."
      ]
    },
    {
      "cell_type": "code",
      "execution_count": 20,
      "metadata": {
        "id": "YJESnlO_vS6L",
        "outputId": "cc7d2461-fccc-4d41-bebc-91cb0e031cbd",
        "colab": {
          "base_uri": "https://localhost:8080/"
        }
      },
      "outputs": [
        {
          "output_type": "stream",
          "name": "stdout",
          "text": [
            "                                             controles riesgo_1 riesgo_2  \\\n",
            "0    verificar/corregir observaciones/comentarios d...       Sí       No   \n",
            "1                 verificar todos los soportes legales       No       Sí   \n",
            "2               verificar todos los documentos legales       No       Sí   \n",
            "3    verificar si el acuerdo generado cumple las co...       No       No   \n",
            "4    verificar si el acuerdo firmado cumple condici...       No       No   \n",
            "..                                                 ...      ...      ...   \n",
            "428                               establecer políticas       No       No   \n",
            "429  definir cláusula de declaración de conflictos ...       No       No   \n",
            "430  definir comités especializados que supervisen ...       Sí       No   \n",
            "431  definir y documentar protocolos claros para la...       No       No   \n",
            "432                              monitoreo de bloqueos       No       No   \n",
            "\n",
            "    riesgo_3 riesgo_4 riesgo_5  \n",
            "0         No       No       No  \n",
            "1         Sí       No       No  \n",
            "2         Sí       No       No  \n",
            "3         Sí       No       No  \n",
            "4         Sí       No       No  \n",
            "..       ...      ...      ...  \n",
            "428       Sí       No       No  \n",
            "429       No       No       No  \n",
            "430       No       No       No  \n",
            "431       No       Sí       No  \n",
            "432       Sí       No       No  \n",
            "\n",
            "[433 rows x 6 columns]\n"
          ]
        }
      ],
      "source": [
        "df.replace({\"si\": \"Sí\", \"no\": \"No\"}, inplace=True)\n",
        "print(df)"
      ]
    },
    {
      "cell_type": "markdown",
      "metadata": {
        "id": "v_XEJz51vS6M"
      },
      "source": [
        "- Para mayor seguridad, convertimos columnas categóricas a tipo 'category'"
      ]
    },
    {
      "cell_type": "code",
      "execution_count": 22,
      "metadata": {
        "id": "PxRA6VhPvS6M"
      },
      "outputs": [],
      "source": [
        "categorical_columns = [\"riesgo_1\", \"riesgo_2\", \"riesgo_3\", \"riesgo_4\", \"riesgo_5\"]\n",
        "for col in categorical_columns:\n",
        "    df[col] = df[col].astype(\"category\")"
      ]
    },
    {
      "cell_type": "markdown",
      "metadata": {
        "id": "RsXPKvkNvS6M"
      },
      "source": [
        "Creamos una nueva variable para sumar los riesgos asociados a cada control y finalmente sumamos los riesgos totales."
      ]
    },
    {
      "cell_type": "code",
      "execution_count": 23,
      "metadata": {
        "id": "SbWTlF5MvS6M",
        "outputId": "e32b9496-688a-4014-ac32-98a481615af8",
        "colab": {
          "base_uri": "https://localhost:8080/"
        }
      },
      "outputs": [
        {
          "output_type": "stream",
          "name": "stdout",
          "text": [
            "riesgo_1    category\n",
            "riesgo_2    category\n",
            "riesgo_3    category\n",
            "riesgo_4    category\n",
            "riesgo_5    category\n",
            "dtype: object\n",
            "   riesgo_1  riesgo_2  riesgo_3  riesgo_4  riesgo_5\n",
            "0         1         0         0         0         0\n",
            "1         0         1         1         0         0\n",
            "2         0         1         1         0         0\n",
            "3         0         0         1         0         0\n",
            "4         0         0         1         0         0\n",
            "   riesgo_total\n",
            "0             1\n",
            "1             2\n",
            "2             2\n",
            "3             1\n",
            "4             1\n",
            "Suma total de riesgos: 407\n"
          ]
        }
      ],
      "source": [
        "print(df[categorical_columns].dtypes)\n",
        "\n",
        "for col in categorical_columns:\n",
        "    df[col] = df[col].astype(str).astype(\"category\").cat.codes\n",
        "\n",
        "print(df[categorical_columns].head())\n",
        "\n",
        "df[\"riesgo_total\"] = df[categorical_columns].sum(axis=1)\n",
        "print(df[[\"riesgo_total\"]].head())\n",
        "\n",
        "total_riesgo = df[\"riesgo_total\"].sum()\n",
        "print(\"Suma total de riesgos:\", total_riesgo)\n"
      ]
    },
    {
      "cell_type": "code",
      "execution_count": 36,
      "metadata": {
        "id": "b58TbwwkvS6N",
        "colab": {
          "base_uri": "https://localhost:8080/"
        },
        "outputId": "9df7f687-0b2a-4a8d-c693-960c6864d0a5"
      },
      "outputs": [
        {
          "output_type": "stream",
          "name": "stdout",
          "text": [
            "                                           controles  riesgo_1  riesgo_2  \\\n",
            "0  verificar/corregir observaciones/comentarios d...         1         0   \n",
            "1               verificar todos los soportes legales         0         1   \n",
            "2             verificar todos los documentos legales         0         1   \n",
            "3  verificar si el acuerdo generado cumple las co...         0         0   \n",
            "4  verificar si el acuerdo firmado cumple condici...         0         0   \n",
            "\n",
            "   riesgo_3  riesgo_4  riesgo_5  riesgo_total  \n",
            "0         0         0         0             1  \n",
            "1         1         0         0             2  \n",
            "2         1         0         0             2  \n",
            "3         1         0         0             1  \n",
            "4         1         0         0             1  \n"
          ]
        }
      ],
      "source": [
        "df.to_csv(r\"/content/drive/My Drive/PruebaTecnica_Bancolombia20230316/insumo_prueba_limpio.csv\", index=False, encoding=\"utf-8-sig\")\n",
        "print(df.head())"
      ]
    },
    {
      "cell_type": "markdown",
      "metadata": {
        "id": "w_T8SmQmvS6N"
      },
      "source": [
        "- Frecuencias por cada riesgo"
      ]
    },
    {
      "cell_type": "code",
      "execution_count": 25,
      "metadata": {
        "id": "69Z2g35ivS6N",
        "outputId": "98c4a804-2d88-47ba-af65-20b49101f0b2",
        "colab": {
          "base_uri": "https://localhost:8080/",
          "height": 509
        }
      },
      "outputs": [
        {
          "output_type": "display_data",
          "data": {
            "text/plain": [
              "<Figure size 1500x600 with 5 Axes>"
            ],
            "image/png": "[encoded data removed]"
          },
          "metadata": {}
        }
      ],
      "source": [
        "riesgos = [\"riesgo_1\", \"riesgo_2\", \"riesgo_3\", \"riesgo_4\", \"riesgo_5\"]\n",
        "colores = [\"#4E5D6C\", \"black\", \"#8B5E3B\", \"#4682b4\", \"#172c3e\"]\n",
        "\n",
        "plt.figure(figsize=(15, 6))  # Ajustar tamaño de la figura\n",
        "\n",
        "for i, (col, color) in enumerate(zip(riesgos, colores), 1):\n",
        "    plt.subplot(1, 5, i)  # Crear subgráficos en una fila con 5 columnas\n",
        "\n",
        "    # Contamos las frecuencias de \"No\" (0) y \"Sí\" (1)\n",
        "    counts = df[col].value_counts().sort_index()\n",
        "    labels = [\"No\", \"Sí\"]\n",
        "\n",
        "    # Graficamos las barras alineadas en \"mid\"\n",
        "    bars = plt.bar(labels, counts, color=color, edgecolor=\"black\", align=\"center\", width=0.3)\n",
        "\n",
        "    # Agregamos etiquetas con los valores encima de las barras\n",
        "    for bar in bars:\n",
        "        plt.text(bar.get_x() + bar.get_width()/2, bar.get_height() + 0.5,\n",
        "                 int(bar.get_height()), ha=\"center\", fontsize=10, fontweight=\"bold\")\n",
        "\n",
        "    plt.xlabel(\"Número de riesgos\")\n",
        "    plt.ylabel(\"Frecuencia\")\n",
        "    plt.title(f\"Distribución de {col}\")\n",
        "\n",
        "plt.tight_layout()  # Ajustar espaciado entre gráficos\n",
        "plt.show()\n"
      ]
    },
    {
      "cell_type": "markdown",
      "source": [
        "Identificamos cual es uno de los controles más criticos del dataset suministrado según la mayor cantidad de riesgos asociados"
      ],
      "metadata": {
        "id": "6IwbI6w5CTbu"
      }
    },
    {
      "cell_type": "code",
      "source": [
        "# Control más crítico (el que cubre más riesgos)\n",
        "most_critical_control = df.loc[risks_per_control.idxmax(), \"controles\"]\n",
        "most_critical_control"
      ],
      "metadata": {
        "colab": {
          "base_uri": "https://localhost:8080/",
          "height": 35
        },
        "id": "fxbkjDTb-zEv",
        "outputId": "f3aca2ff-0fee-4486-ce2f-16a41065a1cd"
      },
      "execution_count": 48,
      "outputs": [
        {
          "output_type": "execute_result",
          "data": {
            "text/plain": [
              "'verificar que el contrato sea acorde con las condiciones establecidas'"
            ],
            "application/vnd.google.colaboratory.intrinsic+json": {
              "type": "string"
            }
          },
          "metadata": {},
          "execution_count": 48
        }
      ]
    },
    {
      "cell_type": "markdown",
      "metadata": {
        "id": "s_Id0ntAvS6N"
      },
      "source": [
        "- Ahora visualizamos en un mismo gráfico de frecuencias todos los riesgos"
      ]
    },
    {
      "cell_type": "code",
      "execution_count": 51,
      "metadata": {
        "id": "nf50QxzcvS6N",
        "outputId": "cd29d348-14db-4340-edb2-ec78d7d087b0",
        "colab": {
          "base_uri": "https://localhost:8080/",
          "height": 507
        }
      },
      "outputs": [
        {
          "output_type": "display_data",
          "data": {
            "text/plain": [
              "<Figure size 800x500 with 1 Axes>"
            ],
            "image/png": "[encoded data removed]"
          },
          "metadata": {}
        }
      ],
      "source": [
        "# Crear lista de valores y posiciones en el eje x\n",
        "values = []\n",
        "bar_colors = []\n",
        "x_positions = []\n",
        "x_labels = []\n",
        "\n",
        "for i, col in enumerate(riesgos):\n",
        "    values.extend([\n",
        "        frecuencias[col].get(0, 0),  # Frecuencia de \"No\"\n",
        "        frecuencias[col].get(1, 0)   # Frecuencia de \"Sí\"\n",
        "    ])\n",
        "    bar_colors.extend([colores[i], colores[i]])  # Mismo color para \"No\" y \"Sí\"\n",
        "    x_positions.extend([i * 2, i * 2 + 1])  # Posiciones en X\n",
        "    x_labels.extend([\"No\", \"Sí\"])  # Etiquetas debajo de cada barra\n",
        "\n",
        "plt.figure(figsize=(8, 5))\n",
        "bars = plt.bar(x_positions, values, color=bar_colors, edgecolor=\"black\", width=0.5)  # Gráfico de barras\n",
        "\n",
        "for bar in bars:\n",
        "    plt.text(bar.get_x() + bar.get_width()/2, bar.get_height() + 0.5,  # Etiquetas a cada barra\n",
        "             str(int(bar.get_height())), ha=\"center\", fontsize=10)\n",
        "\n",
        "plt.xticks(ticks=x_positions, labels=x_labels)  # \"No\" y \"Sí\" bajo cada barra\n",
        "\n",
        "for i in range(len(riesgos)):\n",
        "    plt.text(i * 2 + 0.5, -max(values) * 0.10, f\"Riesgo {i+1}\",\n",
        "             ha=\"center\", fontsize=10)  # Más abajo para evitar superposición\n",
        "\n",
        "plt.xlabel(\"Riesgos\", labelpad=16)\n",
        "plt.ylabel(\"Frecuencia\")\n",
        "plt.title(\"Distribución de los Riesgos\")\n",
        "\n",
        "plt.tight_layout()\n",
        "plt.show()"
      ]
    },
    {
      "cell_type": "markdown",
      "metadata": {
        "id": "TJGNAMuOvS6O"
      },
      "source": [
        "- Visualizamos que controles hay para cada uno de los riesgos"
      ]
    },
    {
      "cell_type": "code",
      "execution_count": 56,
      "metadata": {
        "id": "NmtYlmrevS6O",
        "outputId": "a541c3c6-0e22-4960-88e7-8a138bda966f",
        "colab": {
          "base_uri": "https://localhost:8080/",
          "height": 606
        }
      },
      "outputs": [
        {
          "output_type": "stream",
          "name": "stdout",
          "text": [
            "riesgo_total\n",
            "1    297\n",
            "2     33\n",
            "3      8\n",
            "4      5\n",
            "Name: count, dtype: int64\n"
          ]
        },
        {
          "output_type": "display_data",
          "data": {
            "text/plain": [
              "<Figure size 800x500 with 1 Axes>"
            ],
            "image/png": "[encoded data removed]"
          },
          "metadata": {}
        }
      ],
      "source": [
        "# Definir las columnas de riesgos\n",
        "riesgos = [\"riesgo_1\", \"riesgo_2\", \"riesgo_3\", \"riesgo_4\", \"riesgo_5\"]\n",
        "\n",
        "# Sumar la cantidad de riesgos que tiene cada control\n",
        "df[\"riesgo_total\"] = df[riesgos].sum(axis=1)\n",
        "\n",
        "# Contar cuántos controles tienen 1, 2, 3, 4 o 5 riesgos\n",
        "conteo_riesgos = df[\"riesgo_total\"].value_counts().sort_index()\n",
        "\n",
        "# Eliminar el índice 0 si existe\n",
        "conteo_riesgos = conteo_riesgos[conteo_riesgos.index > 0]\n",
        "\n",
        "# Mostrar los valores en consola\n",
        "print(conteo_riesgos)\n",
        "\n",
        "# Graficar\n",
        "plt.figure(figsize=(8, 5))\n",
        "plt.bar(conteo_riesgos.index, conteo_riesgos.values, color=\"steelblue\", edgecolor=\"black\")\n",
        "\n",
        "# Personalizar el gráfico\n",
        "plt.xlabel(\"Riesgos\", labelpad=10)\n",
        "plt.ylabel(\"Número de Controles\")\n",
        "plt.title(\"Distribución de Controles según Cantidad de Riesgos\")\n",
        "plt.xticks(conteo_riesgos.index)  # Asegurar que se vean bien las categorías\n",
        "\n",
        "# Mostrar los valores encima de cada barra\n",
        "for i, v in enumerate(conteo_riesgos.values):\n",
        "    plt.text(conteo_riesgos.index[i], v + 0.5, str(v), ha=\"center\", fontsize=10)\n",
        "\n",
        "plt.show()\n"
      ]
    },
    {
      "cell_type": "markdown",
      "metadata": {
        "id": "YkWZfa1cvS6P"
      },
      "source": [
        "De la gráfica anterior se puede notar que de los 433 controles, 90 tiene solo un riesgo, 297 tienen 2 riesgos, 33 controles tienen 3 riesgos, 8 controles tienen 4 de los 5 riesgos establecidos y tan solo 5 controles de los 433 disponibles tienen los 5 riesgos."
      ]
    },
    {
      "cell_type": "markdown",
      "metadata": {
        "id": "ugg3HzG4vS6P"
      },
      "source": [
        "Ahora miremoslo mediante un grafico de torta"
      ]
    },
    {
      "cell_type": "code",
      "execution_count": 59,
      "metadata": {
        "id": "oETFpgrsvS6P",
        "outputId": "5c9a9f86-69f3-469c-af1c-e8e754853550",
        "colab": {
          "base_uri": "https://localhost:8080/",
          "height": 607
        }
      },
      "outputs": [
        {
          "output_type": "display_data",
          "data": {
            "text/plain": [
              "<Figure size 600x600 with 1 Axes>"
            ],
            "image/png": "[encoded data removed]"
          },
          "metadata": {}
        }
      ],
      "source": [
        "# Ajustar los índices para que vayan de \"Riesgo 1\" a \"Riesgo 5\"\n",
        "labels = [f\"Riesgo {int(i+1)}\" for i in conteo_riesgos.index]\n",
        "\n",
        "# Colores sobrios\n",
        "colores = [\"#4E79A7\", \"#F28E2B\", \"#E15759\", \"#76B7B2\", \"#59A14F\"]\n",
        "\n",
        "# Crear la figura más pequeña\n",
        "plt.figure(figsize=(6, 6))\n",
        "\n",
        "# Graficar Pie Chart sin etiquetas dentro\n",
        "wedges, texts, autotexts = plt.pie(\n",
        "    conteo_riesgos,\n",
        "    labels=[\"\"] * len(labels),  # Quita etiquetas por defecto\n",
        "    autopct=\"\",  # No mostrar % por defecto\n",
        "    colors=colores,\n",
        "    startangle=90,\n",
        "    wedgeprops={\"edgecolor\": \"black\"}\n",
        ")\n",
        "\n",
        "# Agregar etiquetas con anotaciones más pequeñas\n",
        "for i, (wedge, label, value) in enumerate(zip(wedges, labels, conteo_riesgos)):\n",
        "    angle = (wedge.theta2 + wedge.theta1) / 2  # Obtener ángulo medio del segmento\n",
        "    x = np.cos(np.radians(angle)) * 1.1  # Ajustar posición X\n",
        "    y = np.sin(np.radians(angle)) * 1.1  # Ajustar posición Y\n",
        "\n",
        "    if label == \"Riesgo 1\":\n",
        "        y -= 0.22\n",
        "        x += 0.35\n",
        "\n",
        "    if label == \"Riesgo 2\":\n",
        "        y += 0.55\n",
        "        x += 0.05\n",
        "\n",
        "    if label == \"Riesgo 3\":\n",
        "        y -= 0.12\n",
        "        x += 0.06\n",
        "\n",
        "    if label == \"Riesgo 4\":\n",
        "        y -= 0.08\n",
        "        x += 0.1\n",
        "\n",
        "    if label == \"Riesgo 5\":\n",
        "        y -= 0.08\n",
        "        x -= 0.05\n",
        "\n",
        "    plt.annotate(\n",
        "        f\"{label}\\n{value} ({conteo_riesgos[i] / conteo_riesgos.sum() * 100:.1f}%)\",\n",
        "        (x, y),\n",
        "        ha=\"center\",\n",
        "        va=\"center\",\n",
        "        fontsize=8,  # Tamaño de etiqueta reducido\n",
        "        bbox=dict(boxstyle=\"round,pad=0.2\", edgecolor=\"gray\", facecolor=\"white\")\n",
        "    )\n",
        "\n",
        "# Título\n",
        "plt.title(\"Distribución de Controles según Cantidad de Riesgos\", pad=15, fontsize=10)\n",
        "\n",
        "# Ajustar espacios para evitar solapamientos\n",
        "plt.tight_layout()\n",
        "\n",
        "# Mostrar gráfico\n",
        "plt.show()"
      ]
    },
    {
      "cell_type": "markdown",
      "metadata": {
        "id": "NkI1hCM7vS6Q"
      },
      "source": [
        "A continuación, filtraré los controles con más riesgos."
      ]
    },
    {
      "cell_type": "code",
      "execution_count": null,
      "metadata": {
        "id": "oWNSv3FbvS6Q",
        "outputId": "aed92c59-a1ca-4394-d638-b9e3b27f4059"
      },
      "outputs": [
        {
          "name": "stdout",
          "output_type": "stream",
          "text": [
            "                                             controles  riesgo_total\n",
            "75   validar que las condiciones negociadas estén c...             4\n",
            "70   validar que los documentos cumplan con los req...             4\n",
            "76   validar que las condiciones negociadas estén c...             4\n",
            "79   validar que la información se encuentre correc...             4\n",
            "15   verificar que el contrato sea acorde con las c...             4\n",
            "17             verificar publicación de la información             3\n",
            "180   revisar las condiciones para ofrecer el servicio             3\n",
            "67   validar que se cumplan con las condiciones pac...             3\n",
            "181   revisar las condiciones para ofrecer el producto             3\n",
            "182      revisar las condiciones para ofrecer el canal             3\n"
          ]
        },
        {
          "data": {
            "image/png": "[encoded data removed]",
            "text/plain": [
              "<Figure size 1200x600 with 1 Axes>"
            ]
          },
          "metadata": {},
          "output_type": "display_data"
        }
      ],
      "source": [
        "top_controles = df.sort_values(by=\"riesgo_total\", ascending=False).head(10)  # Ordenar los controles por la cantidad total de riesgos.\n",
        "print(top_controles[[\"controles\", \"riesgo_total\"]])\n",
        "\n",
        "# Gráfico de los controles con más riesgos\n",
        "plt.figure(figsize=(12, 6))\n",
        "plt.barh(top_controles[\"controles\"], top_controles[\"riesgo_total\"], color=\"skyblue\")\n",
        "plt.xlabel(\"Cantidad de Riesgos\")\n",
        "plt.ylabel(\"Controles\")\n",
        "plt.title(\"Top 10 Controles con Más Riesgos\")\n",
        "plt.gca().invert_yaxis()  # Invertir eje para mejor visualización\n",
        "plt.show()"
      ]
    },
    {
      "cell_type": "markdown",
      "metadata": {
        "id": "yv163oU_vS6Q"
      },
      "source": [
        "- Revisemos si tenemos en todo el dataframe controles repetidos."
      ]
    },
    {
      "cell_type": "code",
      "execution_count": 60,
      "metadata": {
        "id": "y66HFq25vS6S",
        "outputId": "944b6680-6886-4216-b031-775de7ddb377",
        "colab": {
          "base_uri": "https://localhost:8080/"
        }
      },
      "outputs": [
        {
          "output_type": "stream",
          "name": "stdout",
          "text": [
            "Cantidad de controles repetidos: 0\n"
          ]
        }
      ],
      "source": [
        "# Verificar si hay controles repetidos en la columna \"controles\"\n",
        "controles_duplicados = df['controles'].duplicated().sum()\n",
        "\n",
        "# Mostrar la cantidad de controles repetidos\n",
        "print(f'Cantidad de controles repetidos: {controles_duplicados}')\n"
      ]
    },
    {
      "cell_type": "markdown",
      "metadata": {
        "id": "Z6tRJ3eGvS6T"
      },
      "source": [
        "# Aplicamos técnicas de Machine Learining para clasificación y entreanmiento del modelo"
      ]
    },
    {
      "cell_type": "code",
      "execution_count": 62,
      "metadata": {
        "id": "kSL7iMmvvS6T",
        "outputId": "0e263758-5b3c-4217-e01b-936652642a33",
        "colab": {
          "base_uri": "https://localhost:8080/"
        }
      },
      "outputs": [
        {
          "output_type": "stream",
          "name": "stderr",
          "text": [
            "<ipython-input-62-8bf5f8abaa5f>:1: FutureWarning: DataFrame.applymap has been deprecated. Use DataFrame.map instead.\n",
            "  df.iloc[:, 1:] = df.iloc[:, 1:].applymap(lambda x: 1 if x == 'Si' else 0)\n"
          ]
        }
      ],
      "source": [
        "df.iloc[:, 1:] = df.iloc[:, 1:].applymap(lambda x: 1 if x == 'Si' else 0)\n",
        "\n",
        "# Crear una nueva columna con el total de riesgos asociados\n",
        "df['total_riesgos'] = df.iloc[:, 1:].sum(axis=1)\n",
        "\n",
        "# Vectorizar los textos de los controles\n",
        "vectorizer = TfidfVectorizer()\n",
        "X_text = vectorizer.fit_transform(df['controles'])\n",
        "\n",
        "# Unir las características de texto con los riesgos\n",
        "X = np.hstack((X_text.toarray(), df.iloc[:, 1:-1].values))\n",
        "y = df['total_riesgos']  # Etiqueta de clasificación\n"
      ]
    },
    {
      "cell_type": "code",
      "execution_count": 63,
      "metadata": {
        "id": "d2WA7SVnvS6T",
        "outputId": "818b244c-8cce-4a78-bb3c-88b36ef467b9",
        "colab": {
          "base_uri": "https://localhost:8080/",
          "height": 676
        }
      },
      "outputs": [
        {
          "output_type": "stream",
          "name": "stdout",
          "text": [
            "              precision    recall  f1-score   support\n",
            "\n",
            "           0       1.00      1.00      1.00        87\n",
            "\n",
            "    accuracy                           1.00        87\n",
            "   macro avg       1.00      1.00      1.00        87\n",
            "weighted avg       1.00      1.00      1.00        87\n",
            "\n"
          ]
        },
        {
          "output_type": "stream",
          "name": "stderr",
          "text": [
            "/usr/local/lib/python3.11/dist-packages/sklearn/metrics/_classification.py:407: UserWarning: A single label was found in 'y_true' and 'y_pred'. For the confusion matrix to have the correct shape, use the 'labels' parameter to pass all known labels.\n",
            "  warnings.warn(\n"
          ]
        },
        {
          "output_type": "display_data",
          "data": {
            "text/plain": [
              "<Figure size 640x480 with 2 Axes>"
            ],
            "image/png": "[encoded data removed]"
          },
          "metadata": {}
        }
      ],
      "source": [
        "# Dividir en conjuntos de entrenamiento y prueba\n",
        "X_train, X_test, y_train, y_test = train_test_split(X, y, test_size=0.2, random_state=42)\n",
        "\n",
        "# Entrenar el modelo\n",
        "clf = RandomForestClassifier(n_estimators=100, random_state=42)\n",
        "clf.fit(X_train, y_train)\n",
        "\n",
        "# Evaluación del modelo\n",
        "y_pred = clf.predict(X_test)\n",
        "print(classification_report(y_test, y_pred))\n",
        "\n",
        "# Matriz de confusión\n",
        "conf_matrix = confusion_matrix(y_test, y_pred)\n",
        "sns.heatmap(conf_matrix, annot=True, cmap='Blues', fmt='d')\n",
        "plt.xlabel('Predicho')\n",
        "plt.ylabel('Real')\n",
        "plt.title('Matriz de Confusión')\n",
        "plt.show()"
      ]
    },
    {
      "cell_type": "markdown",
      "metadata": {
        "id": "-O_q7zE7vS6U"
      },
      "source": [
        "Lo que puedo inferir en primera instancia sobre el gráfico anterior es que hay una precisión alta en todos los Riesgos (1,2,3,4,5) . Dado que cada uno de los riesgos se toman como las clses, vemos que el dataset está balanceado."
      ]
    },
    {
      "cell_type": "markdown",
      "metadata": {
        "id": "vbS1Lem0vS6V"
      },
      "source": [
        "- Pipeline completo para el Modelo de Machine Learining"
      ]
    },
    {
      "cell_type": "code",
      "execution_count": 70,
      "metadata": {
        "id": "rA4TjM7VvS6V",
        "outputId": "585408bf-ab65-4120-a1e6-58ae22f28281",
        "colab": {
          "base_uri": "https://localhost:8080/"
        }
      },
      "outputs": [
        {
          "output_type": "stream",
          "name": "stdout",
          "text": [
            "                                           controles  riesgo_1  riesgo_2  \\\n",
            "0  verificar/corregir observaciones/comentarios d...         0         0   \n",
            "1               verificar todos los soportes legales         0         0   \n",
            "2             verificar todos los documentos legales         0         0   \n",
            "3  verificar si el acuerdo generado cumple las co...         0         0   \n",
            "4  verificar si el acuerdo firmado cumple condici...         0         0   \n",
            "\n",
            "   riesgo_3  riesgo_4  riesgo_5  riesgo_total  total_riesgos  \n",
            "0         0         0         0             0              0  \n",
            "1         0         0         0             0              0  \n",
            "2         0         0         0             0              0  \n",
            "3         0         0         0             0              0  \n",
            "4         0         0         0             0              0  \n",
            "              precision    recall  f1-score   support\n",
            "\n",
            "           0       0.00      0.00      0.00         0\n",
            "           1       0.00      0.00      0.00         0\n",
            "           2       0.00      0.00      0.00         0\n",
            "           3       0.00      0.00      0.00         0\n",
            "           4       0.00      0.00      0.00         0\n",
            "           5       0.00      0.00      0.00         0\n",
            "           6       0.00      0.00      0.00         0\n",
            "\n",
            "   micro avg       0.00      0.00      0.00         0\n",
            "   macro avg       0.00      0.00      0.00         0\n",
            "weighted avg       0.00      0.00      0.00         0\n",
            " samples avg       0.00      0.00      0.00         0\n",
            "\n",
            " * Serving Flask app '__main__'\n",
            " * Debug mode: on\n"
          ]
        },
        {
          "output_type": "stream",
          "name": "stderr",
          "text": [
            "/usr/local/lib/python3.11/dist-packages/sklearn/metrics/_classification.py:1565: UndefinedMetricWarning: Precision is ill-defined and being set to 0.0 in labels with no predicted samples. Use `zero_division` parameter to control this behavior.\n",
            "  _warn_prf(average, modifier, f\"{metric.capitalize()} is\", len(result))\n",
            "/usr/local/lib/python3.11/dist-packages/sklearn/metrics/_classification.py:1565: UndefinedMetricWarning: Recall is ill-defined and being set to 0.0 in labels with no true samples. Use `zero_division` parameter to control this behavior.\n",
            "  _warn_prf(average, modifier, f\"{metric.capitalize()} is\", len(result))\n",
            "/usr/local/lib/python3.11/dist-packages/sklearn/metrics/_classification.py:1565: UndefinedMetricWarning: F-score is ill-defined and being set to 0.0 in labels with no true nor predicted samples. Use `zero_division` parameter to control this behavior.\n",
            "  _warn_prf(average, modifier, f\"{metric.capitalize()} is\", len(result))\n",
            "/usr/local/lib/python3.11/dist-packages/sklearn/metrics/_classification.py:1565: UndefinedMetricWarning: Precision is ill-defined and being set to 0.0 due to no predicted samples. Use `zero_division` parameter to control this behavior.\n",
            "  _warn_prf(average, modifier, f\"{metric.capitalize()} is\", len(result))\n",
            "/usr/local/lib/python3.11/dist-packages/sklearn/metrics/_classification.py:1565: UndefinedMetricWarning: Recall is ill-defined and being set to 0.0 due to no true samples. Use `zero_division` parameter to control this behavior.\n",
            "  _warn_prf(average, modifier, f\"{metric.capitalize()} is\", len(result))\n",
            "/usr/local/lib/python3.11/dist-packages/sklearn/metrics/_classification.py:1565: UndefinedMetricWarning: F-score is ill-defined and being set to 0.0 due to no true nor predicted samples. Use `zero_division` parameter to control this behavior.\n",
            "  _warn_prf(average, modifier, f\"{metric.capitalize()} is\", len(result))\n",
            "/usr/local/lib/python3.11/dist-packages/sklearn/metrics/_classification.py:1565: UndefinedMetricWarning: Precision is ill-defined and being set to 0.0 in samples with no predicted labels. Use `zero_division` parameter to control this behavior.\n",
            "  _warn_prf(average, modifier, f\"{metric.capitalize()} is\", len(result))\n",
            "/usr/local/lib/python3.11/dist-packages/sklearn/metrics/_classification.py:1565: UndefinedMetricWarning: Recall is ill-defined and being set to 0.0 in samples with no true labels. Use `zero_division` parameter to control this behavior.\n",
            "  _warn_prf(average, modifier, f\"{metric.capitalize()} is\", len(result))\n",
            "/usr/local/lib/python3.11/dist-packages/sklearn/metrics/_classification.py:1565: UndefinedMetricWarning: F-score is ill-defined and being set to 0.0 in samples with no true nor predicted labels. Use `zero_division` parameter to control this behavior.\n",
            "  _warn_prf(average, modifier, f\"{metric.capitalize()} is\", len(result))\n",
            "INFO:werkzeug:\u001b[31m\u001b[1mWARNING: This is a development server. Do not use it in a production deployment. Use a production WSGI server instead.\u001b[0m\n",
            " * Running on http://127.0.0.1:5000\n",
            "INFO:werkzeug:\u001b[33mPress CTRL+C to quit\u001b[0m\n",
            "INFO:werkzeug: * Restarting with stat\n"
          ]
        }
      ],
      "source": [
        "import joblib\n",
        "import os\n",
        "import pandas as pd\n",
        "import numpy as np\n",
        "import seaborn as sns\n",
        "import matplotlib.pyplot as plt\n",
        "from flask import Flask, request, jsonify\n",
        "from sklearn.model_selection import train_test_split\n",
        "from sklearn.feature_extraction.text import TfidfVectorizer\n",
        "from sklearn.ensemble import RandomForestClassifier\n",
        "from sklearn.multioutput import MultiOutputClassifier\n",
        "from sklearn.metrics import classification_report, multilabel_confusion_matrix\n",
        "\n",
        "\n",
        "# Verificar nombres de columnas\n",
        "#print(df.columns)\n",
        "print(df.head())\n",
        "\n",
        "# 2. Preprocesamiento y Transformación de Datos (Data Preprocessing & Transformation)\n",
        "def preprocess_data(df):\n",
        "    df.fillna(\"No\", inplace=True)\n",
        "    df.replace({'Si': 1, 'No': 0}, inplace=True)\n",
        "\n",
        "    # Separar características y etiquetas\n",
        "    X_text = df['controles']\n",
        "    y = df.iloc[:, 1:]  # Columnas de riesgos\n",
        "\n",
        "    # Vectorización del texto\n",
        "    vectorizer = TfidfVectorizer()\n",
        "    X_transformed = vectorizer.fit_transform(X_text)\n",
        "\n",
        "    return X_transformed, y, vectorizer\n",
        "\n",
        "X, y, vectorizer = preprocess_data(df)\n",
        "X_train, X_test, y_train, y_test = train_test_split(X, y, test_size=0.2, random_state=42)\n",
        "\n",
        "\n",
        "\n",
        "# 3. Entrenamiento del Modelo (Model Training)\n",
        "def train_model(X_train, y_train):\n",
        "    model = RandomForestClassifier(n_estimators=100, random_state=42)\n",
        "    model.fit(X_train, y_train)\n",
        "    return model\n",
        "\n",
        "model = train_model(X_train, y_train)\n",
        "joblib.dump(model, '/content/drive/My Drive/PruebaTecnica_Bancolombia20230316/model.pkl')\n",
        "joblib.dump(vectorizer, '/content/drive/My Drive/PruebaTecnica_Bancolombia20230316/vectorizer.pkl')\n",
        "\n",
        "\n",
        "# 4. Validación del Modelo (Model Validation)\n",
        "def evaluate_model(model, X_test, y_test):\n",
        "    y_pred = model.predict(X_test)\n",
        "    report = classification_report(y_test, y_pred)\n",
        "    print(report)\n",
        "\n",
        "evaluate_model(model, X_test, y_test)\n",
        "\n",
        "# 5. Despliegue del Modelo (Model Deployment)\n",
        "app = Flask(__name__)\n",
        "\n",
        "@app.route('/predict', methods=['POST'])\n",
        "def predict():\n",
        "    data = request.json['control']\n",
        "    vectorizer = joblib.load('models/vectorizer.pkl')\n",
        "    model = joblib.load('models/model.pkl')\n",
        "\n",
        "    X_input = vectorizer.transform([data])\n",
        "    prediction = model.predict(X_input)\n",
        "\n",
        "    return jsonify({'prediction': prediction.tolist()})\n",
        "\n",
        "if __name__ == '__main__':\n",
        "    app.run(debug=True)\n"
      ]
    },
    {
      "cell_type": "markdown",
      "metadata": {
        "id": "4XZbKREevS6W"
      },
      "source": [
        "Lo que puedo inferir sobre las métricas (precision, recall y f1-score) son muy bajas para algunas clases, lo que indica que el modelo no está aprendiendo correctamente a clasificar los riesgos"
      ]
    },
    {
      "cell_type": "markdown",
      "metadata": {
        "id": "pdbHTcA7vS6Z"
      },
      "source": [
        "- Ahora entreremos, validaremos y desplegareamos el modelo utilizando Random Forest con KFold y Gradio para la inferencia\n",
        "\n",
        "El flujo será:\n",
        "\n",
        "Preprocesamiento: Convertir \"Si\"/\"No\" en 1/0.\n",
        "\n",
        "División de datos: Separar en entrenamiento y prueba.\n",
        "\n",
        "Entrenamiento y validación: Entrenamos un modelo de Random Forest con KFold y evaluamos su rendimiento.\n",
        "\n",
        "Despliegue: Creamos una interfaz con Gradio para probar el modelo."
      ]
    },
    {
      "cell_type": "markdown",
      "metadata": {
        "id": "ZOD4gXmovS6a"
      },
      "source": [
        "Importación de librerías"
      ]
    },
    {
      "cell_type": "code",
      "execution_count": 92,
      "metadata": {
        "id": "P8uUFkLwvS6a"
      },
      "outputs": [],
      "source": [
        "import pandas as pd\n",
        "import numpy as np\n",
        "from sklearn.model_selection import train_test_split, KFold, cross_val_score\n",
        "from sklearn.ensemble import RandomForestClassifier\n",
        "from sklearn.feature_extraction.text import TfidfVectorizer\n",
        "from sklearn.pipeline import make_pipeline\n",
        "from sklearn.preprocessing import MultiLabelBinarizer\n",
        "from nltk.tokenize import word_tokenize\n",
        "from nltk.corpus import stopwords\n",
        "from sklearn.metrics import accuracy_score, classification_report\n",
        "import re\n",
        "import gradio as gr"
      ]
    },
    {
      "cell_type": "markdown",
      "metadata": {
        "id": "lLyuA2abvS6a"
      },
      "source": [
        "Carga de datos"
      ]
    },
    {
      "cell_type": "code",
      "execution_count": 93,
      "metadata": {
        "id": "tPLFP3xuvS6a",
        "outputId": "cb75bc0d-83a3-4c62-d34f-893ac5a59146",
        "colab": {
          "base_uri": "https://localhost:8080/"
        }
      },
      "outputs": [
        {
          "output_type": "stream",
          "name": "stdout",
          "text": [
            "                                           controles riesgo_1 riesgo_2  \\\n",
            "0  Verificar/Corregir observaciones/comentarios d...       Si       No   \n",
            "1              Verificar todos los soportes legales        No       Si   \n",
            "2            Verificar todos los documentos legales        No       Si   \n",
            "3  Verificar si el acuerdo generado cumple las co...       No       No   \n",
            "4  Verificar si el acuerdo firmado cumple condici...       No       No   \n",
            "\n",
            "  riesgo_3 riesgo_4 riesgo_5  \n",
            "0       No       No       No  \n",
            "1       Si       No       No  \n",
            "2       Si       No       No  \n",
            "3       Si       No       No  \n",
            "4       Si       No       No  \n"
          ]
        }
      ],
      "source": [
        "# Definir la ruta del archivo\n",
        "RutaDataSet = r\"/content/drive/My Drive/PruebaTecnica_Bancolombia20230316/insumo_prueba.xlsx\"\n",
        "try:\n",
        "    # Cargar y limpiar nombres de columnas en un solo paso\n",
        "    df = pd.read_excel(RutaDataSet)\n",
        "    df.columns = df.columns.str.strip().str.replace(\" \", \"_\").str.lower()\n",
        "except Exception as e:\n",
        "    print(f\"Error al cargar los datos: {e}\")\n",
        "\n",
        "print(df.head())"
      ]
    },
    {
      "cell_type": "markdown",
      "metadata": {
        "id": "WJ9GkeFdvS6b"
      },
      "source": [
        "2. Preprocesamiento y Transformación de Datos"
      ]
    },
    {
      "cell_type": "code",
      "execution_count": 94,
      "metadata": {
        "id": "SC_FsLkEvS6b",
        "outputId": "74a82dbb-bcd3-4dcd-f10b-33c199c31790",
        "colab": {
          "base_uri": "https://localhost:8080/"
        }
      },
      "outputs": [
        {
          "output_type": "stream",
          "name": "stderr",
          "text": [
            "<ipython-input-94-5e9843f7729f>:2: FutureWarning: DataFrame.applymap has been deprecated. Use DataFrame.map instead.\n",
            "  df.iloc[:, 1:] = df.iloc[:, 1:].applymap(lambda x: 1 if x.strip().lower() == \"si\" else 0)\n"
          ]
        }
      ],
      "source": [
        "# Convertir los valores \"Si\" y \"No\" a 1 y 0\n",
        "df.iloc[:, 1:] = df.iloc[:, 1:].applymap(lambda x: 1 if x.strip().lower() == \"si\" else 0)\n",
        "\n",
        "# Convertir a formato multietiqueta\n",
        "mlb = MultiLabelBinarizer()\n",
        "X = df[\"controles\"]\n",
        "y = mlb.fit_transform(df.iloc[:, 1:].values.tolist())"
      ]
    },
    {
      "cell_type": "code",
      "execution_count": 95,
      "metadata": {
        "id": "qbgKjo62vS6b",
        "outputId": "96a96858-126d-41c9-f45f-a3d4a3fb6fff",
        "colab": {
          "base_uri": "https://localhost:8080/",
          "height": 687
        }
      },
      "outputs": [
        {
          "output_type": "stream",
          "name": "stdout",
          "text": [
            "Index(['controles', 'riesgo_1', 'riesgo_2', 'riesgo_3', 'riesgo_4',\n",
            "       'riesgo_5'],\n",
            "      dtype='object')\n",
            "Cross-validation accuracy: 0.7875\n",
            "Colab notebook detected. To show errors in colab notebook, set debug=True in launch()\n",
            "* Running on public URL: https://a09cea7878c4ac9fb5.gradio.live\n",
            "\n",
            "This share link expires in 72 hours. For free permanent hosting and GPU upgrades, run `gradio deploy` from the terminal in the working directory to deploy to Hugging Face Spaces (https://huggingface.co/spaces)\n"
          ]
        },
        {
          "output_type": "display_data",
          "data": {
            "text/plain": [
              "<IPython.core.display.HTML object>"
            ],
            "text/html": [
              "<div><iframe src=\"https://a09cea7878c4ac9fb5.gradio.live\" width=\"100%\" height=\"500\" allow=\"autoplay; camera; microphone; clipboard-read; clipboard-write;\" frameborder=\"0\" allowfullscreen></iframe></div>"
            ]
          },
          "metadata": {}
        },
        {
          "output_type": "execute_result",
          "data": {
            "text/plain": []
          },
          "metadata": {},
          "execution_count": 95
        }
      ],
      "source": [
        "print(df.columns)  # Para ver los nombres reales de las columnas\n",
        "\n",
        "# Función para entrenar el modelo\n",
        "def entrenar_modelo():\n",
        "    global pipeline\n",
        "    kf = KFold(n_splits=5, shuffle=True, random_state=42)\n",
        "    pipeline = make_pipeline(TfidfVectorizer(), RandomForestClassifier(n_estimators=100, random_state=42))\n",
        "\n",
        "    # Validación cruzada\n",
        "    scores = cross_val_score(pipeline, X, y, cv=kf, scoring='accuracy')\n",
        "    print(f'Cross-validation accuracy: {np.mean(scores):.4f}')\n",
        "\n",
        "    # Entrenar modelo final\n",
        "    pipeline.fit(X, y)\n",
        "\n",
        "# Función de predicción para Gradio\n",
        "def predict(control_text):\n",
        "    control_row = df[df[\"controles\"] == control_text]\n",
        "    if not control_row.empty:\n",
        "        associated_risks = control_row.iloc[0, 1:].values.tolist()\n",
        "        risks = [col.replace(\"_\", \" \").title() for col, val in zip(df.columns[1:], associated_risks) if val == 1]\n",
        "        return f\"Riesgos asociados: {', '.join(risks) if risks else 'Ninguno'}\"\n",
        "    return \"Control no encontrado\"\n",
        "\n",
        "# Definir estilos CSS personalizados\n",
        "custom_css = \"\"\"\n",
        ".gradio-container {\n",
        "    background-color: #808080;\n",
        "    color: white;\n",
        "    font-family: Arial, sans-serif;\n",
        "}\n",
        "\n",
        ".gr-button {\n",
        "    background-color: #FFD700;\n",
        "    color: black !important;\n",
        "}\n",
        "\n",
        ".gr-dropdown {\n",
        "    background-color: black;\n",
        "    color: black !important;\n",
        "}\n",
        "\n",
        ".gr-textbox {\n",
        "    background-color: #879080;\n",
        "    color: black !important;\n",
        "}\n",
        "\"\"\"\n",
        "\n",
        "\n",
        "# Crear la interfaz de usuario con Gradio\n",
        "iface = gr.Interface(\n",
        "    fn=predict,\n",
        "    inputs=gr.Dropdown(choices=df[\"controles\"].tolist(), label=\"Seleccione un control:\"),\n",
        "    outputs=gr.Textbox(label=\"Salida:\"),\n",
        "    title=\"Clasificación de Controles en Categorías de Riesgo\",\n",
        "    description=\"Seleccione un control y se mostrarán los riesgos asociados.\",\n",
        "    css=custom_css  # Aplicar los estilos\n",
        ")\n",
        "\n",
        "# Entrenar y ejecutar la aplicación\n",
        "entrenar_modelo()\n",
        "iface.launch(share=True)  # `share=True` permite compartir el link públicamente\""
      ]
    }
  ],
  "metadata": {
    "kernelspec": {
      "display_name": "Python 3",
      "language": "python",
      "name": "python3"
    },
    "language_info": {
      "codemirror_mode": {
        "name": "ipython",
        "version": 3
      },
      "file_extension": ".py",
      "mimetype": "text/x-python",
      "name": "python",
      "nbconvert_exporter": "python",
      "pygments_lexer": "ipython3",
      "version": "3.12.0"
    },
    "colab": {
      "provenance": [],
      "include_colab_link": true
    }
  },
  "nbformat": 4,
  "nbformat_minor": 0
}