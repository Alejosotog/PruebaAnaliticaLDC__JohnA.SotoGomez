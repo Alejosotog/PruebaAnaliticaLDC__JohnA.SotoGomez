{
  "cells": [
    {
      "cell_type": "markdown",
      "metadata": {
        "id": "view-in-github",
        "colab_type": "text"
      },
      "source": [
        "<a href=\"https://colab.research.google.com/github/Alejosotog/PruebaAnaliticaLDC__JohnA.SotoGomez/blob/main/PT2/PruebaTecnica_Bancolombia20250316.ipynb\" target=\"_parent\"><img src=\"https://colab.research.google.com/assets/colab-badge.svg\" alt=\"Open In Colab\"/></a>"
      ]
    },
    {
      "cell_type": "markdown",
      "metadata": {
        "id": "uNvcjF53vS5-"
      },
      "source": [
        "# Prueba analítica: Segmentación LAFT\n",
        "\n",
        "# Prueba analítica LDC Ciencia de datos cumplimiento\n",
        "\n",
        "\n",
        "---\n",
        "John Alejandro Soto Gómez\n",
        "--\n",
        "- Candidato el cargo cientifico de Datos\n",
        "\n",
        "- Empresa: Bancolombia\n",
        "\n",
        "- Duración de prueba: 2025-03-14 a 2025-03-17\n",
        "\n",
        "- Fecha límite de entrega: 2025-03-17 (Hora máx. 11:59am)\n",
        "\n",
        "\n",
        "---\n",
        "\n",
        "\n",
        "Base de datos:\n",
        "\n",
        "Ubicación local: insumo_prueba.xlsx\n",
        "\n",
        "Caracterización del dataset: 1 archivo insumo_prueba.xlsx\n",
        "\n",
        "Size: 28.8KB\n",
        "\n",
        "Dimensión del dataframe: 433 filas x 6 columnas.\n",
        "\n",
        "---\n",
        "Objetivo:\n",
        "--\n",
        "Evaluar la capacidad para abordar un problema de clasificación de texto con poca información, incluyendo el flujo completo de carga, procesamiento, transformación, entrenamiento, y despliegue de un modelo, siguiendo buenas prácticas de MLOps\n"
      ]
    },
    {
      "cell_type": "markdown",
      "metadata": {
        "id": "4k8eN2HHvS6C"
      },
      "source": [
        "- Cargamos librerías necesarias"
      ]
    },
    {
      "cell_type": "code",
      "execution_count": null,
      "metadata": {
        "id": "xCz3-Te3vS6D"
      },
      "outputs": [],
      "source": [
        "import pandas as pd\n",
        "import numpy as np\n",
        "import seaborn as sns\n",
        "import matplotlib.pyplot as plt\n",
        "from sklearn.model_selection import train_test_split\n",
        "from sklearn.feature_extraction.text import TfidfVectorizer\n",
        "from sklearn.ensemble import RandomForestClassifier\n",
        "from sklearn.metrics import classification_report, confusion_matrix"
      ]
    },
    {
      "cell_type": "markdown",
      "metadata": {
        "id": "TneEuOq6vS6E"
      },
      "source": [
        "Carga del dataset"
      ]
    },
    {
      "cell_type": "code",
      "execution_count": null,
      "metadata": {
        "id": "Wf9aAcQmvS6F"
      },
      "outputs": [],
      "source": [
        "# Ruta del archivo\n",
        "file_path = r\"C:\\Users\\JOHN\\Desktop\\PRUEBA TÉCNICA DE SELECCIÓN_BANCOLOMBIA_ JohnA_SotoG\\insumo_prueba.xlsx\"\n",
        "\n",
        "# Cargar el archivo en un DataFrame\n",
        "df = pd.read_excel(file_path)"
      ]
    },
    {
      "cell_type": "markdown",
      "metadata": {
        "id": "sXHmml7AvS6F"
      },
      "source": [
        "Revisión de la primeras filas"
      ]
    },
    {
      "cell_type": "code",
      "execution_count": null,
      "metadata": {
        "id": "ENcUZRC3vS6F",
        "outputId": "a5d64bb0-9ab5-478a-c5a8-aa6719bdb238"
      },
      "outputs": [
        {
          "name": "stdout",
          "output_type": "stream",
          "text": [
            "                                           Controles Riesgo 1 Riesgo 2  \\\n",
            "0  Verificar/Corregir observaciones/comentarios d...       Si       No   \n",
            "1              Verificar todos los soportes legales        No       Si   \n",
            "2            Verificar todos los documentos legales        No       Si   \n",
            "3  Verificar si el acuerdo generado cumple las co...       No       No   \n",
            "4  Verificar si el acuerdo firmado cumple condici...       No       No   \n",
            "\n",
            "  Riesgo 3 Riesgo 4 Riesgo 5  \n",
            "0       No       No       No  \n",
            "1       Si       No       No  \n",
            "2       Si       No       No  \n",
            "3       Si       No       No  \n",
            "4       Si       No       No  \n"
          ]
        }
      ],
      "source": [
        "print(df.head())"
      ]
    },
    {
      "cell_type": "markdown",
      "metadata": {
        "id": "I-aWgZRyvS6H"
      },
      "source": [
        "Verificación de la información del dataset"
      ]
    },
    {
      "cell_type": "code",
      "execution_count": null,
      "metadata": {
        "id": "mcIPYh46vS6H",
        "outputId": "40f0ec67-f878-4d03-bd92-ae1b67064578"
      },
      "outputs": [
        {
          "name": "stdout",
          "output_type": "stream",
          "text": [
            "<class 'pandas.core.frame.DataFrame'>\n",
            "RangeIndex: 433 entries, 0 to 432\n",
            "Data columns (total 6 columns):\n",
            " #   Column     Non-Null Count  Dtype \n",
            "---  ------     --------------  ----- \n",
            " 0   Controles  433 non-null    object\n",
            " 1   Riesgo 1   433 non-null    object\n",
            " 2   Riesgo 2   433 non-null    object\n",
            " 3   Riesgo 3   433 non-null    object\n",
            " 4   Riesgo 4   433 non-null    object\n",
            " 5   Riesgo 5   433 non-null    object\n",
            "dtypes: object(6)\n",
            "memory usage: 20.4+ KB\n",
            "None\n"
          ]
        }
      ],
      "source": [
        "print(df.info())"
      ]
    },
    {
      "cell_type": "markdown",
      "metadata": {
        "id": "lUCggqO9vS6I"
      },
      "source": [
        "Renombramiento de columnas"
      ]
    },
    {
      "cell_type": "code",
      "execution_count": null,
      "metadata": {
        "id": "H4ry7uC5vS6I",
        "outputId": "12483d5b-efc8-44b4-e89b-5b28f1bd8889"
      },
      "outputs": [
        {
          "name": "stdout",
          "output_type": "stream",
          "text": [
            "                                           controles riesgo_1 riesgo_2  \\\n",
            "0  Verificar/Corregir observaciones/comentarios d...       Si       No   \n",
            "1              Verificar todos los soportes legales        No       Si   \n",
            "2            Verificar todos los documentos legales        No       Si   \n",
            "3  Verificar si el acuerdo generado cumple las co...       No       No   \n",
            "4  Verificar si el acuerdo firmado cumple condici...       No       No   \n",
            "\n",
            "  riesgo_3 riesgo_4 riesgo_5  \n",
            "0       No       No       No  \n",
            "1       Si       No       No  \n",
            "2       Si       No       No  \n",
            "3       Si       No       No  \n",
            "4       Si       No       No  \n"
          ]
        }
      ],
      "source": [
        "df.columns = df.columns.str.strip().str.lower().str.replace(\" \", \"_\")\n",
        "print(df.head())"
      ]
    },
    {
      "cell_type": "markdown",
      "metadata": {
        "id": "e8AyHhsLvS6J"
      },
      "source": [
        "Con lo anterior, elimina espacios y normalizamos los nombres de las columnas"
      ]
    },
    {
      "cell_type": "markdown",
      "metadata": {
        "id": "QDU45gggvS6J"
      },
      "source": [
        "- Verificamos si tenemos valores nulos"
      ]
    },
    {
      "cell_type": "code",
      "execution_count": null,
      "metadata": {
        "id": "eJK5bCSBvS6J",
        "outputId": "34d7229b-9855-42d3-a69a-a935cf5dc3da"
      },
      "outputs": [
        {
          "name": "stdout",
          "output_type": "stream",
          "text": [
            "controles    0\n",
            "riesgo_1     0\n",
            "riesgo_2     0\n",
            "riesgo_3     0\n",
            "riesgo_4     0\n",
            "riesgo_5     0\n",
            "dtype: int64\n"
          ]
        }
      ],
      "source": [
        "print(df.isnull().sum())\n"
      ]
    },
    {
      "cell_type": "markdown",
      "metadata": {
        "id": "KDAuyrRqvS6K"
      },
      "source": [
        "Es de notar que incluso al tener variables categoricas no se presentan valores nulos"
      ]
    },
    {
      "cell_type": "markdown",
      "metadata": {
        "id": "NW0F5kCivS6K"
      },
      "source": [
        "- Convertimos valores de texto a formato consistente ( texto a minúsculas y elimina espacios adicionales)"
      ]
    },
    {
      "cell_type": "code",
      "execution_count": null,
      "metadata": {
        "id": "1zCXkIg-vS6K",
        "outputId": "288f74de-3570-425c-af19-7225749737ed"
      },
      "outputs": [
        {
          "name": "stdout",
          "output_type": "stream",
          "text": [
            "                                             controles riesgo_1 riesgo_2  \\\n",
            "0    verificar/corregir observaciones/comentarios d...       si       no   \n",
            "1                 verificar todos los soportes legales       no       si   \n",
            "2               verificar todos los documentos legales       no       si   \n",
            "3    verificar si el acuerdo generado cumple las co...       no       no   \n",
            "4    verificar si el acuerdo firmado cumple condici...       no       no   \n",
            "..                                                 ...      ...      ...   \n",
            "428                               establecer políticas       no       no   \n",
            "429  definir cláusula de declaración de conflictos ...       no       no   \n",
            "430  definir comités especializados que supervisen ...       si       no   \n",
            "431  definir y documentar protocolos claros para la...       no       no   \n",
            "432                              monitoreo de bloqueos       no       no   \n",
            "\n",
            "    riesgo_3 riesgo_4 riesgo_5  \n",
            "0         no       no       no  \n",
            "1         si       no       no  \n",
            "2         si       no       no  \n",
            "3         si       no       no  \n",
            "4         si       no       no  \n",
            "..       ...      ...      ...  \n",
            "428       si       no       no  \n",
            "429       no       no       no  \n",
            "430       no       no       no  \n",
            "431       no       si       no  \n",
            "432       si       no       no  \n",
            "\n",
            "[433 rows x 6 columns]\n"
          ]
        }
      ],
      "source": [
        "df = df.apply(lambda x: x.str.strip().str.lower() if x.dtype == \"object\" else x)\n",
        "print(df)"
      ]
    },
    {
      "cell_type": "markdown",
      "metadata": {
        "id": "xyUht2ntvS6K"
      },
      "source": [
        "- A continuación, identificamos y eliminamos duplicados"
      ]
    },
    {
      "cell_type": "code",
      "execution_count": null,
      "metadata": {
        "id": "RDa2QtYXvS6K",
        "outputId": "920b6da7-d52e-4705-9b65-543f0dc44ac9"
      },
      "outputs": [
        {
          "name": "stdout",
          "output_type": "stream",
          "text": [
            "                                             controles riesgo_1 riesgo_2  \\\n",
            "0    verificar/corregir observaciones/comentarios d...       si       no   \n",
            "1                 verificar todos los soportes legales       no       si   \n",
            "2               verificar todos los documentos legales       no       si   \n",
            "3    verificar si el acuerdo generado cumple las co...       no       no   \n",
            "4    verificar si el acuerdo firmado cumple condici...       no       no   \n",
            "..                                                 ...      ...      ...   \n",
            "428                               establecer políticas       no       no   \n",
            "429  definir cláusula de declaración de conflictos ...       no       no   \n",
            "430  definir comités especializados que supervisen ...       si       no   \n",
            "431  definir y documentar protocolos claros para la...       no       no   \n",
            "432                              monitoreo de bloqueos       no       no   \n",
            "\n",
            "    riesgo_3 riesgo_4 riesgo_5  \n",
            "0         no       no       no  \n",
            "1         si       no       no  \n",
            "2         si       no       no  \n",
            "3         si       no       no  \n",
            "4         si       no       no  \n",
            "..       ...      ...      ...  \n",
            "428       si       no       no  \n",
            "429       no       no       no  \n",
            "430       no       no       no  \n",
            "431       no       si       no  \n",
            "432       si       no       no  \n",
            "\n",
            "[433 rows x 6 columns]\n"
          ]
        }
      ],
      "source": [
        "df.drop_duplicates(inplace=True)\n",
        "print(df)"
      ]
    },
    {
      "cell_type": "code",
      "execution_count": null,
      "metadata": {
        "id": "VgEOQGJsvS6L",
        "outputId": "1d1ea40c-68a6-47aa-be61-5272efa7d465"
      },
      "outputs": [
        {
          "name": "stdout",
          "output_type": "stream",
          "text": [
            "    Riesgo 1  Riesgo 2  Riesgo 3  Riesgo 4  Riesgo 5\n",
            "no       331       354       292       381       400\n",
            "si       102        79       141        52        33\n",
            "\n",
            "Tipos de datos:\n",
            "riesgo_1    object\n",
            "riesgo_2    object\n",
            "riesgo_3    object\n",
            "riesgo_4    object\n",
            "riesgo_5    object\n",
            "dtype: object\n"
          ]
        }
      ],
      "source": [
        "import pandas as pd\n",
        "\n",
        "# Supongamos que 'df' ya está definido\n",
        "conteos = pd.concat([\n",
        "    df[\"riesgo_1\"].value_counts(),\n",
        "    df[\"riesgo_2\"].value_counts(),\n",
        "    df[\"riesgo_3\"].value_counts(),\n",
        "    df[\"riesgo_4\"].value_counts(),\n",
        "    df[\"riesgo_5\"].value_counts()\n",
        "], axis=1)\n",
        "\n",
        "conteos.columns = [\"Riesgo 1\", \"Riesgo 2\", \"Riesgo 3\", \"Riesgo 4\", \"Riesgo 5\"]\n",
        "\n",
        "# Mostrar los dtypes de cada columna\n",
        "dtypes = df[[\"riesgo_1\", \"riesgo_2\", \"riesgo_3\", \"riesgo_4\", \"riesgo_5\"]].dtypes\n",
        "\n",
        "print(conteos)\n",
        "print(\"\\nTipos de datos:\")\n",
        "print(dtypes)\n"
      ]
    },
    {
      "cell_type": "markdown",
      "metadata": {
        "id": "7lQxeJOcvS6L"
      },
      "source": [
        "- Normalizo los valores categóricos (Es claro que todos son valores categoricos, sin embargo normalizamos)"
      ]
    },
    {
      "cell_type": "code",
      "execution_count": null,
      "metadata": {
        "id": "YJESnlO_vS6L",
        "outputId": "e6f98e8a-f997-41f8-cf94-161a8d3d6019"
      },
      "outputs": [
        {
          "name": "stdout",
          "output_type": "stream",
          "text": [
            "                                             controles riesgo_1 riesgo_2  \\\n",
            "0    verificar/corregir observaciones/comentarios d...       Sí       No   \n",
            "1                 verificar todos los soportes legales       No       Sí   \n",
            "2               verificar todos los documentos legales       No       Sí   \n",
            "3    verificar si el acuerdo generado cumple las co...       No       No   \n",
            "4    verificar si el acuerdo firmado cumple condici...       No       No   \n",
            "..                                                 ...      ...      ...   \n",
            "428                               establecer políticas       No       No   \n",
            "429  definir cláusula de declaración de conflictos ...       No       No   \n",
            "430  definir comités especializados que supervisen ...       Sí       No   \n",
            "431  definir y documentar protocolos claros para la...       No       No   \n",
            "432                              monitoreo de bloqueos       No       No   \n",
            "\n",
            "    riesgo_3 riesgo_4 riesgo_5  \n",
            "0         No       No       No  \n",
            "1         Sí       No       No  \n",
            "2         Sí       No       No  \n",
            "3         Sí       No       No  \n",
            "4         Sí       No       No  \n",
            "..       ...      ...      ...  \n",
            "428       Sí       No       No  \n",
            "429       No       No       No  \n",
            "430       No       No       No  \n",
            "431       No       Sí       No  \n",
            "432       Sí       No       No  \n",
            "\n",
            "[433 rows x 6 columns]\n"
          ]
        }
      ],
      "source": [
        "df.replace({\"si\": \"Sí\", \"no\": \"No\"}, inplace=True)\n",
        "print(df)"
      ]
    },
    {
      "cell_type": "markdown",
      "metadata": {
        "id": "v_XEJz51vS6M"
      },
      "source": [
        "- Para mayor seguridad, convertimos columnas categóricas a tipo 'category'"
      ]
    },
    {
      "cell_type": "code",
      "execution_count": null,
      "metadata": {
        "id": "PxRA6VhPvS6M"
      },
      "outputs": [],
      "source": [
        "categorical_columns = [\"riesgo_1\", \"riesgo_2\", \"riesgo_3\", \"riesgo_4\", \"riesgo_5\"]\n",
        "for col in categorical_columns:\n",
        "    df[col] = df[col].astype(\"category\")"
      ]
    },
    {
      "cell_type": "markdown",
      "metadata": {
        "id": "RsXPKvkNvS6M"
      },
      "source": [
        "Creamos una nueva variable para sumar los riesgos asociados a cada control y finalmente sumamos los riesgos totales."
      ]
    },
    {
      "cell_type": "code",
      "execution_count": null,
      "metadata": {
        "id": "SbWTlF5MvS6M",
        "outputId": "bc995c5c-197c-4af9-939b-52473f4901b4"
      },
      "outputs": [
        {
          "name": "stdout",
          "output_type": "stream",
          "text": [
            "riesgo_1    category\n",
            "riesgo_2    category\n",
            "riesgo_3    category\n",
            "riesgo_4    category\n",
            "riesgo_5    category\n",
            "dtype: object\n",
            "   riesgo_1  riesgo_2  riesgo_3  riesgo_4  riesgo_5\n",
            "0         1         0         0         0         0\n",
            "1         0         1         1         0         0\n",
            "2         0         1         1         0         0\n",
            "3         0         0         1         0         0\n",
            "4         0         0         1         0         0\n",
            "   riesgo_total\n",
            "0             1\n",
            "1             2\n",
            "2             2\n",
            "3             1\n",
            "4             1\n",
            "Suma total de riesgos: 407\n"
          ]
        }
      ],
      "source": [
        "print(df[categorical_columns].dtypes)\n",
        "\n",
        "for col in categorical_columns:\n",
        "    df[col] = df[col].astype(str).astype(\"category\").cat.codes\n",
        "\n",
        "print(df[categorical_columns].head())\n",
        "\n",
        "df[\"riesgo_total\"] = df[categorical_columns].sum(axis=1)\n",
        "print(df[[\"riesgo_total\"]].head())\n",
        "\n",
        "total_riesgo = df[\"riesgo_total\"].sum()\n",
        "print(\"Suma total de riesgos:\", total_riesgo)\n"
      ]
    },
    {
      "cell_type": "code",
      "execution_count": null,
      "metadata": {
        "id": "b58TbwwkvS6N"
      },
      "outputs": [],
      "source": [
        "df.to_csv(r\"C:/Users/JOHN/Desktop/PRUEBA TÉCNICA DE SELECCIÓN_BANCOLOMBIA_ JohnA_SotoG/insumo_prueba_limpio.csv\", index=False, encoding=\"utf-8-sig\")"
      ]
    },
    {
      "cell_type": "markdown",
      "metadata": {
        "id": "w_T8SmQmvS6N"
      },
      "source": [
        "- Frecuencias por cada riesgo"
      ]
    },
    {
      "cell_type": "code",
      "execution_count": null,
      "metadata": {
        "id": "69Z2g35ivS6N",
        "outputId": "24cda3fb-968e-40c6-c91f-e0b2848037be"
      },
      "outputs": [
        {
          "data": {
            "image/png": "[encoded data removed]",
            "text/plain": [
              "<Figure size 1500x600 with 5 Axes>"
            ]
          },
          "metadata": {},
          "output_type": "display_data"
        }
      ],
      "source": [
        "riesgos = [\"riesgo_1\", \"riesgo_2\", \"riesgo_3\", \"riesgo_4\", \"riesgo_5\"]\n",
        "colores = [\"#4E5D6C\", \"black\", \"#8B5E3B\", \"#4682b4\", \"#172c3e\"]\n",
        "\n",
        "plt.figure(figsize=(15, 6))  # Ajustar tamaño de la figura\n",
        "\n",
        "for i, (col, color) in enumerate(zip(riesgos, colores), 1):\n",
        "    plt.subplot(1, 5, i)  # Crear subgráficos en una fila con 5 columnas\n",
        "\n",
        "    # Contamos las frecuencias de \"No\" (0) y \"Sí\" (1)\n",
        "    counts = df[col].value_counts().sort_index()\n",
        "    labels = [\"No\", \"Sí\"]\n",
        "\n",
        "    # Graficamos las barras alineadas en \"mid\"\n",
        "    bars = plt.bar(labels, counts, color=color, edgecolor=\"black\", align=\"center\", width=0.3)\n",
        "\n",
        "    # Agregamos etiquetas con los valores encima de las barras\n",
        "    for bar in bars:\n",
        "        plt.text(bar.get_x() + bar.get_width()/2, bar.get_height() + 0.5,\n",
        "                 int(bar.get_height()), ha=\"center\", fontsize=10, fontweight=\"bold\")\n",
        "\n",
        "    plt.xlabel(\"Número de riesgos\")\n",
        "    plt.ylabel(\"Frecuencia\")\n",
        "    plt.title(f\"Distribución de {col}\")\n",
        "\n",
        "plt.tight_layout()  # Ajustar espaciado entre gráficos\n",
        "plt.show()\n"
      ]
    },
    {
      "cell_type": "markdown",
      "metadata": {
        "id": "s_Id0ntAvS6N"
      },
      "source": [
        "- Ahora visualizamos en un mismo gráfico de frecuencias todos los riesgos"
      ]
    },
    {
      "cell_type": "code",
      "execution_count": null,
      "metadata": {
        "id": "nf50QxzcvS6N",
        "outputId": "3ab10663-73d4-425b-e87a-581ba9a4c365"
      },
      "outputs": [
        {
          "data": {
            "image/png": "[encoded data removed]",
            "text/plain": [
              "<Figure size 800x500 with 1 Axes>"
            ]
          },
          "metadata": {},
          "output_type": "display_data"
        }
      ],
      "source": [
        "# Obtener las frecuencias de \"No\" (0) y \"Sí\" (1) para cada riesgo\n",
        "frecuencias = {col: df[col].value_counts().sort_index() for col in riesgos}\n",
        "\n",
        "# Crear lista de valores y posiciones en el eje x\n",
        "values = []\n",
        "bar_colors = []\n",
        "x_positions = []\n",
        "x_labels = []\n",
        "\n",
        "for i, col in enumerate(riesgos):\n",
        "    values.extend([\n",
        "        frecuencias[col].get(0, 0),  # Frecuencia de \"No\"\n",
        "        frecuencias[col].get(1, 0)   # Frecuencia de \"Sí\"\n",
        "    ])\n",
        "    bar_colors.extend([colores[i], colores[i]])  # Mismo color para \"No\" y \"Sí\"\n",
        "    x_positions.extend([i * 2, i * 2 + 1])  # Posiciones en X\n",
        "    x_labels.extend([\"No\", \"Sí\"])  # Etiquetas debajo de cada barra\n",
        "\n",
        "# Crear gráfico de barras\n",
        "plt.figure(figsize=(8, 5))\n",
        "bars = plt.bar(x_positions, values, color=bar_colors, edgecolor=\"black\", width=0.5)\n",
        "\n",
        "# Agregar etiquetas de frecuencia encima de cada barra\n",
        "for bar in bars:\n",
        "    plt.text(bar.get_x() + bar.get_width()/2, bar.get_height() + 0.5,\n",
        "             str(int(bar.get_height())), ha=\"center\", fontsize=10)\n",
        "\n",
        "# Configurar etiquetas en el eje X\n",
        "plt.xticks(ticks=x_positions, labels=x_labels)  # \"No\" y \"Sí\" bajo cada barra\n",
        "\n",
        "# Agregar etiquetas de los riesgos, más abajo y sin negrita\n",
        "for i in range(len(riesgos)):\n",
        "    plt.text(i * 2 + 0.5, -max(values) * 0.10, f\"Riesgo {i+1}\",\n",
        "             ha=\"center\", fontsize=10)  # Más abajo para evitar superposición\n",
        "\n",
        "# Personalización del gráfico\n",
        "plt.xlabel(\"Riesgos\", labelpad=16)\n",
        "plt.ylabel(\"Frecuencia\")\n",
        "plt.title(\"Distribución de los Riesgos\")\n",
        "\n",
        "plt.tight_layout()\n",
        "plt.show()\n"
      ]
    },
    {
      "cell_type": "markdown",
      "metadata": {
        "id": "TJGNAMuOvS6O"
      },
      "source": [
        "- Visualizamos que controles hay para cada uno de los riesgos"
      ]
    },
    {
      "cell_type": "code",
      "execution_count": null,
      "metadata": {
        "id": "NmtYlmrevS6O",
        "outputId": "9aebae91-93aa-4787-8372-2bada5a04a79"
      },
      "outputs": [
        {
          "name": "stdout",
          "output_type": "stream",
          "text": [
            "riesgo_total\n",
            "0     90\n",
            "1    297\n",
            "2     33\n",
            "3      8\n",
            "4      5\n",
            "Name: count, dtype: int64\n"
          ]
        },
        {
          "data": {
            "image/png": "[encoded data removed]",
            "text/plain": [
              "<Figure size 800x500 with 1 Axes>"
            ]
          },
          "metadata": {},
          "output_type": "display_data"
        }
      ],
      "source": [
        "# Definir las columnas de riesgos\n",
        "riesgos = [\"riesgo_1\", \"riesgo_2\", \"riesgo_3\", \"riesgo_4\", \"riesgo_5\"]\n",
        "\n",
        "# Sumar la cantidad de riesgos que tiene cada control\n",
        "df[\"riesgo_total\"] = df[riesgos].sum(axis=1)\n",
        "\n",
        "# Contar cuántos controles tienen 1, 2, 3, 4 o 5 riesgos\n",
        "conteo_riesgos = df[\"riesgo_total\"].value_counts().sort_index()\n",
        "\n",
        "# Mostrar los valores en consola\n",
        "print(conteo_riesgos)\n",
        "\n",
        "# Graficar\n",
        "plt.figure(figsize=(8, 5))\n",
        "plt.bar(conteo_riesgos.index, conteo_riesgos.values, color=\"steelblue\", edgecolor=\"black\")\n",
        "\n",
        "# Personalizar el gráfico\n",
        "plt.xlabel(\"Cantidad de Riesgos\", labelpad=10)\n",
        "plt.ylabel(\"Número de Controles\")\n",
        "plt.title(\"Distribución de Controles según Cantidad de Riesgos\")\n",
        "plt.xticks(conteo_riesgos.index)  # Asegurar que se vean bien las categorías\n",
        "\n",
        "# Mostrar los valores encima de cada barra\n",
        "for i, v in enumerate(conteo_riesgos.values):\n",
        "    plt.text(conteo_riesgos.index[i], v + 0.5, str(v), ha=\"center\", fontsize=10)\n",
        "\n",
        "plt.show()\n"
      ]
    },
    {
      "cell_type": "markdown",
      "metadata": {
        "id": "YkWZfa1cvS6P"
      },
      "source": [
        "De la gráfica anterior se puede notar que de los 433 controles, 90 tiene solo un riesgo, 297 tienen 2 riesgos, 33 controles tienen 3 riesgos, 8 controles tienen 4 de los 5 riesgos establecidos y tan solo 5 controles de los 433 disponibles tienen los 5 riesgos."
      ]
    },
    {
      "cell_type": "markdown",
      "metadata": {
        "id": "ugg3HzG4vS6P"
      },
      "source": [
        "Ahora miremoslo mediante un grafico de torta"
      ]
    },
    {
      "cell_type": "code",
      "execution_count": null,
      "metadata": {
        "id": "oETFpgrsvS6P",
        "outputId": "ec46c481-ba1e-4bff-82c6-09ba833b07b2"
      },
      "outputs": [
        {
          "data": {
            "image/png": "[encoded data removed]",
            "text/plain": [
              "<Figure size 600x600 with 1 Axes>"
            ]
          },
          "metadata": {},
          "output_type": "display_data"
        }
      ],
      "source": [
        "# Definir las columnas de riesgos\n",
        "riesgos = [\"riesgo_1\", \"riesgo_2\", \"riesgo_3\", \"riesgo_4\", \"riesgo_5\"]\n",
        "\n",
        "# Sumar la cantidad de riesgos que tiene cada control\n",
        "df[\"riesgo_total\"] = df[riesgos].sum(axis=1)\n",
        "\n",
        "# Contar cuántos controles tienen 1, 2, 3, 4 o 5 riesgos\n",
        "conteo_riesgos = df[\"riesgo_total\"].value_counts().sort_index()\n",
        "\n",
        "# Ajustar los índices para que vayan de \"Riesgo 1\" a \"Riesgo 5\"\n",
        "labels = [f\"Riesgo {int(i+1)}\" for i in conteo_riesgos.index]\n",
        "\n",
        "# Colores sobrios\n",
        "colores = [\"#4E79A7\", \"#F28E2B\", \"#E15759\", \"#76B7B2\", \"#59A14F\"]\n",
        "\n",
        "# Crear la figura más pequeña\n",
        "plt.figure(figsize=(6, 6))\n",
        "\n",
        "# Graficar Pie Chart sin etiquetas dentro\n",
        "wedges, texts, autotexts = plt.pie(\n",
        "    conteo_riesgos,\n",
        "    labels=[\"\"] * len(labels),  # Quita etiquetas por defecto\n",
        "    autopct=\"\",  # No mostrar % por defecto\n",
        "    colors=colores,\n",
        "    startangle=90,\n",
        "    wedgeprops={\"edgecolor\": \"black\"}\n",
        ")\n",
        "\n",
        "# Agregar etiquetas con anotaciones más pequeñas\n",
        "for i, (wedge, label, value) in enumerate(zip(wedges, labels, conteo_riesgos)):\n",
        "    angle = (wedge.theta2 + wedge.theta1) / 2  # Obtener ángulo medio del segmento\n",
        "    x = np.cos(np.radians(angle)) * 1.1  # Ajustar posición X\n",
        "    y = np.sin(np.radians(angle)) * 1.1  # Ajustar posición Y\n",
        "\n",
        "    if label == \"Riesgo 1\":\n",
        "        y -= 0.22\n",
        "        x += 0.35\n",
        "\n",
        "    if label == \"Riesgo 2\":\n",
        "        y += 0.55\n",
        "        x += 0.05\n",
        "\n",
        "    if label == \"Riesgo 3\":\n",
        "        y -= 0.12\n",
        "        x += 0.06\n",
        "\n",
        "    if label == \"Riesgo 4\":\n",
        "        y -= 0.08\n",
        "        x += 0.1\n",
        "\n",
        "    if label == \"Riesgo 5\":\n",
        "        y -= 0.08\n",
        "        x -= 0.05\n",
        "\n",
        "    plt.annotate(\n",
        "        f\"{label}\\n{value} ({conteo_riesgos[i] / conteo_riesgos.sum() * 100:.1f}%)\",\n",
        "        (x, y),\n",
        "        ha=\"center\",\n",
        "        va=\"center\",\n",
        "        fontsize=8,  # Tamaño de etiqueta reducido\n",
        "        bbox=dict(boxstyle=\"round,pad=0.2\", edgecolor=\"gray\", facecolor=\"white\")\n",
        "    )\n",
        "\n",
        "# Título\n",
        "plt.title(\"Distribución de Controles según Cantidad de Riesgos\", pad=15, fontsize=10)\n",
        "\n",
        "# Ajustar espacios para evitar solapamientos\n",
        "plt.tight_layout()\n",
        "\n",
        "# Mostrar gráfico\n",
        "plt.show()\n",
        "\n",
        "\n"
      ]
    },
    {
      "cell_type": "markdown",
      "metadata": {
        "id": "NkI1hCM7vS6Q"
      },
      "source": [
        "A continuación, filtraré los controles con más riesgos."
      ]
    },
    {
      "cell_type": "code",
      "execution_count": null,
      "metadata": {
        "id": "oWNSv3FbvS6Q",
        "outputId": "aed92c59-a1ca-4394-d638-b9e3b27f4059"
      },
      "outputs": [
        {
          "name": "stdout",
          "output_type": "stream",
          "text": [
            "                                             controles  riesgo_total\n",
            "75   validar que las condiciones negociadas estén c...             4\n",
            "70   validar que los documentos cumplan con los req...             4\n",
            "76   validar que las condiciones negociadas estén c...             4\n",
            "79   validar que la información se encuentre correc...             4\n",
            "15   verificar que el contrato sea acorde con las c...             4\n",
            "17             verificar publicación de la información             3\n",
            "180   revisar las condiciones para ofrecer el servicio             3\n",
            "67   validar que se cumplan con las condiciones pac...             3\n",
            "181   revisar las condiciones para ofrecer el producto             3\n",
            "182      revisar las condiciones para ofrecer el canal             3\n"
          ]
        },
        {
          "data": {
            "image/png": "[encoded data removed]",
            "text/plain": [
              "<Figure size 1200x600 with 1 Axes>"
            ]
          },
          "metadata": {},
          "output_type": "display_data"
        }
      ],
      "source": [
        "top_controles = df.sort_values(by=\"riesgo_total\", ascending=False).head(10)  # Ordenar los controles por la cantidad total de riesgos.\n",
        "print(top_controles[[\"controles\", \"riesgo_total\"]])\n",
        "\n",
        "# Gráfico de los controles con más riesgos\n",
        "plt.figure(figsize=(12, 6))\n",
        "plt.barh(top_controles[\"controles\"], top_controles[\"riesgo_total\"], color=\"skyblue\")\n",
        "plt.xlabel(\"Cantidad de Riesgos\")\n",
        "plt.ylabel(\"Controles\")\n",
        "plt.title(\"Top 10 Controles con Más Riesgos\")\n",
        "plt.gca().invert_yaxis()  # Invertir eje para mejor visualización\n",
        "plt.show()"
      ]
    },
    {
      "cell_type": "markdown",
      "metadata": {
        "id": "yv163oU_vS6Q"
      },
      "source": [
        "- Revisemos si tenemos en todo el dataframe si tenemos controles repetidos."
      ]
    },
    {
      "cell_type": "code",
      "execution_count": null,
      "metadata": {
        "id": "y66HFq25vS6S",
        "outputId": "40011e14-7c7e-451d-cfb7-db6ef046bc2e"
      },
      "outputs": [
        {
          "name": "stdout",
          "output_type": "stream",
          "text": [
            "Cantidad de controles repetidos: 0\n"
          ]
        }
      ],
      "source": [
        "# Verificar si hay controles repetidos en la columna \"controles\"\n",
        "controles_duplicados = df['controles'].duplicated().sum()\n",
        "\n",
        "# Mostrar la cantidad de controles repetidos\n",
        "print(f'Cantidad de controles repetidos: {controles_duplicados}')\n"
      ]
    },
    {
      "cell_type": "markdown",
      "metadata": {
        "id": "Z6tRJ3eGvS6T"
      },
      "source": [
        "# Aplicamos técnicas de Machine Learining para clasificación y entreanmiento del modelo"
      ]
    },
    {
      "cell_type": "code",
      "execution_count": null,
      "metadata": {
        "id": "kSL7iMmvvS6T",
        "outputId": "a685594f-a40e-4b36-8ce4-2288be6ed8cd"
      },
      "outputs": [
        {
          "name": "stdout",
          "output_type": "stream",
          "text": [
            "Index(['controles', 'riesgo_1', 'riesgo_2', 'riesgo_3', 'riesgo_4', 'riesgo_5',\n",
            "       'riesgo_total', 'total_riesgos'],\n",
            "      dtype='object')\n"
          ]
        },
        {
          "name": "stderr",
          "output_type": "stream",
          "text": [
            "C:\\Users\\JOHN\\AppData\\Local\\Temp\\ipykernel_8548\\2984569938.py:5: FutureWarning: DataFrame.applymap has been deprecated. Use DataFrame.map instead.\n",
            "  df.iloc[:, 1:] = df.iloc[:, 1:].applymap(lambda x: 1 if x == 'Si' else 0)\n"
          ]
        }
      ],
      "source": [
        "print(df.columns)  # Verifica los nombres de las columnas\n",
        "df['controles'] = df['controles'].fillna(\"\")\n",
        "\n",
        "\n",
        "df.iloc[:, 1:] = df.iloc[:, 1:].applymap(lambda x: 1 if x == 'Si' else 0)\n",
        "\n",
        "# Crear una nueva columna con el total de riesgos asociados\n",
        "df['total_riesgos'] = df.iloc[:, 1:].sum(axis=1)\n",
        "\n",
        "# Vectorizar los textos de los controles\n",
        "vectorizer = TfidfVectorizer()\n",
        "X_text = vectorizer.fit_transform(df['controles'])\n",
        "\n",
        "# Unir las características de texto con los riesgos\n",
        "X = np.hstack((X_text.toarray(), df.iloc[:, 1:-1].values))\n",
        "y = df['total_riesgos']  # Etiqueta de clasificación\n",
        "\n"
      ]
    },
    {
      "cell_type": "code",
      "execution_count": null,
      "metadata": {
        "id": "d2WA7SVnvS6T",
        "outputId": "4daa48d1-b197-4ae7-a496-750d82b8713b"
      },
      "outputs": [
        {
          "name": "stdout",
          "output_type": "stream",
          "text": [
            "              precision    recall  f1-score   support\n",
            "\n",
            "           0       1.00      1.00      1.00        87\n",
            "\n",
            "    accuracy                           1.00        87\n",
            "   macro avg       1.00      1.00      1.00        87\n",
            "weighted avg       1.00      1.00      1.00        87\n",
            "\n"
          ]
        },
        {
          "name": "stderr",
          "output_type": "stream",
          "text": [
            "c:\\Users\\JOHN\\AppData\\Local\\Programs\\Python\\Python312\\Lib\\site-packages\\sklearn\\metrics\\_classification.py:407: UserWarning: A single label was found in 'y_true' and 'y_pred'. For the confusion matrix to have the correct shape, use the 'labels' parameter to pass all known labels.\n",
            "  warnings.warn(\n"
          ]
        },
        {
          "data": {
            "image/png": "[encoded data removed]",
            "text/plain": [
              "<Figure size 640x480 with 2 Axes>"
            ]
          },
          "metadata": {},
          "output_type": "display_data"
        }
      ],
      "source": [
        "# Dividir en conjuntos de entrenamiento y prueba\n",
        "X_train, X_test, y_train, y_test = train_test_split(X, y, test_size=0.2, random_state=42)\n",
        "\n",
        "# Entrenar el modelo\n",
        "clf = RandomForestClassifier(n_estimators=100, random_state=42)\n",
        "clf.fit(X_train, y_train)\n",
        "\n",
        "# Evaluación del modelo\n",
        "y_pred = clf.predict(X_test)\n",
        "print(classification_report(y_test, y_pred))\n",
        "\n",
        "# Matriz de confusión\n",
        "conf_matrix = confusion_matrix(y_test, y_pred)\n",
        "sns.heatmap(conf_matrix, annot=True, cmap='Blues', fmt='d')\n",
        "plt.xlabel('Predicho')\n",
        "plt.ylabel('Real')\n",
        "plt.title('Matriz de Confusión')\n",
        "plt.show()"
      ]
    },
    {
      "cell_type": "markdown",
      "metadata": {
        "id": "-O_q7zE7vS6U"
      },
      "source": [
        "Lo que puedo inferir en primera instancia sobre el gráfico anterior es que hay una precisión alta en todos los Riesgos (1,2,3,4,5) . Dado que cada uno de los riesgos se toman como las clses, vemos que el dataset está balanceado."
      ]
    },
    {
      "cell_type": "code",
      "execution_count": null,
      "metadata": {
        "id": "Vk0btWgzvS6U",
        "outputId": "8b850f4f-47ce-4c5f-c176-45ff3ff6e81d"
      },
      "outputs": [
        {
          "name": "stdout",
          "output_type": "stream",
          "text": [
            "Index(['controles', 'riesgo_1', 'riesgo_2', 'riesgo_3', 'riesgo_4', 'riesgo_5',\n",
            "       'riesgo_total'],\n",
            "      dtype='object')\n"
          ]
        },
        {
          "name": "stderr",
          "output_type": "stream",
          "text": [
            "C:\\Users\\JOHN\\AppData\\Local\\Temp\\ipykernel_8548\\1299007363.py:22: FutureWarning: DataFrame.applymap has been deprecated. Use DataFrame.map instead.\n",
            "  df[columnas_riesgo] = df[columnas_riesgo].applymap(lambda x: 1 if x == 'Si' else 0)\n",
            "c:\\Users\\JOHN\\AppData\\Local\\Programs\\Python\\Python312\\Lib\\site-packages\\sklearn\\metrics\\_classification.py:1565: UndefinedMetricWarning: Precision is ill-defined and being set to 0.0 in labels with no predicted samples. Use `zero_division` parameter to control this behavior.\n",
            "  _warn_prf(average, modifier, f\"{metric.capitalize()} is\", len(result))\n",
            "c:\\Users\\JOHN\\AppData\\Local\\Programs\\Python\\Python312\\Lib\\site-packages\\sklearn\\metrics\\_classification.py:1565: UndefinedMetricWarning: Recall is ill-defined and being set to 0.0 in labels with no true samples. Use `zero_division` parameter to control this behavior.\n",
            "  _warn_prf(average, modifier, f\"{metric.capitalize()} is\", len(result))\n",
            "c:\\Users\\JOHN\\AppData\\Local\\Programs\\Python\\Python312\\Lib\\site-packages\\sklearn\\metrics\\_classification.py:1565: UndefinedMetricWarning: F-score is ill-defined and being set to 0.0 in labels with no true nor predicted samples. Use `zero_division` parameter to control this behavior.\n",
            "  _warn_prf(average, modifier, f\"{metric.capitalize()} is\", len(result))\n",
            "c:\\Users\\JOHN\\AppData\\Local\\Programs\\Python\\Python312\\Lib\\site-packages\\sklearn\\metrics\\_classification.py:1565: UndefinedMetricWarning: Precision is ill-defined and being set to 0.0 due to no predicted samples. Use `zero_division` parameter to control this behavior.\n",
            "  _warn_prf(average, modifier, f\"{metric.capitalize()} is\", len(result))\n",
            "c:\\Users\\JOHN\\AppData\\Local\\Programs\\Python\\Python312\\Lib\\site-packages\\sklearn\\metrics\\_classification.py:1565: UndefinedMetricWarning: Recall is ill-defined and being set to 0.0 due to no true samples. Use `zero_division` parameter to control this behavior.\n",
            "  _warn_prf(average, modifier, f\"{metric.capitalize()} is\", len(result))\n",
            "c:\\Users\\JOHN\\AppData\\Local\\Programs\\Python\\Python312\\Lib\\site-packages\\sklearn\\metrics\\_classification.py:1565: UndefinedMetricWarning: F-score is ill-defined and being set to 0.0 due to no true nor predicted samples. Use `zero_division` parameter to control this behavior.\n",
            "  _warn_prf(average, modifier, f\"{metric.capitalize()} is\", len(result))\n",
            "c:\\Users\\JOHN\\AppData\\Local\\Programs\\Python\\Python312\\Lib\\site-packages\\sklearn\\metrics\\_classification.py:1565: UndefinedMetricWarning: Precision is ill-defined and being set to 0.0 in samples with no predicted labels. Use `zero_division` parameter to control this behavior.\n",
            "  _warn_prf(average, modifier, f\"{metric.capitalize()} is\", len(result))\n",
            "c:\\Users\\JOHN\\AppData\\Local\\Programs\\Python\\Python312\\Lib\\site-packages\\sklearn\\metrics\\_classification.py:1565: UndefinedMetricWarning: Recall is ill-defined and being set to 0.0 in samples with no true labels. Use `zero_division` parameter to control this behavior.\n",
            "  _warn_prf(average, modifier, f\"{metric.capitalize()} is\", len(result))\n",
            "c:\\Users\\JOHN\\AppData\\Local\\Programs\\Python\\Python312\\Lib\\site-packages\\sklearn\\metrics\\_classification.py:1565: UndefinedMetricWarning: F-score is ill-defined and being set to 0.0 in samples with no true nor predicted labels. Use `zero_division` parameter to control this behavior.\n",
            "  _warn_prf(average, modifier, f\"{metric.capitalize()} is\", len(result))\n"
          ]
        },
        {
          "name": "stdout",
          "output_type": "stream",
          "text": [
            "              precision    recall  f1-score   support\n",
            "\n",
            "    riesgo_1       0.00      0.00      0.00         0\n",
            "    riesgo_2       0.00      0.00      0.00         0\n",
            "    riesgo_3       0.00      0.00      0.00         0\n",
            "    riesgo_4       0.00      0.00      0.00         0\n",
            "    riesgo_5       0.00      0.00      0.00         0\n",
            "\n",
            "   micro avg       0.00      0.00      0.00         0\n",
            "   macro avg       0.00      0.00      0.00         0\n",
            "weighted avg       0.00      0.00      0.00         0\n",
            " samples avg       0.00      0.00      0.00         0\n",
            "\n"
          ]
        },
        {
          "data": {
            "image/png": "[encoded data removed]",
            "text/plain": [
              "<Figure size 1500x400 with 10 Axes>"
            ]
          },
          "metadata": {},
          "output_type": "display_data"
        }
      ],
      "source": [
        "import pandas as pd\n",
        "import numpy as np\n",
        "import seaborn as sns\n",
        "import matplotlib.pyplot as plt\n",
        "from sklearn.model_selection import train_test_split\n",
        "from sklearn.feature_extraction.text import TfidfVectorizer\n",
        "from sklearn.ensemble import RandomForestClassifier\n",
        "from sklearn.multioutput import MultiOutputClassifier\n",
        "from sklearn.metrics import classification_report, multilabel_confusion_matrix\n",
        "\n",
        "# Cargar los datos\n",
        "file_path = r\"C:/Users/JOHN/Desktop/PRUEBA TÉCNICA DE SELECCIÓN_BANCOLOMBIA_ JohnA_SotoG/insumo_prueba_limpio.csv\"\n",
        "df = pd.read_csv(file_path)\n",
        "\n",
        "# Verificar nombres de columnas\n",
        "print(df.columns)\n",
        "\n",
        "# Selección de columnas de riesgo\n",
        "columnas_riesgo = ['riesgo_1', 'riesgo_2', 'riesgo_3', 'riesgo_4', 'riesgo_5']\n",
        "\n",
        "# Convertir \"Si\" y \"No\" en 1 y 0 en las columnas de riesgo\n",
        "df[columnas_riesgo] = df[columnas_riesgo].applymap(lambda x: 1 if x == 'Si' else 0)\n",
        "\n",
        "# Vectorizar los textos de los controles\n",
        "df['controles'] = df['controles'].fillna(\"\")\n",
        "vectorizer = TfidfVectorizer()\n",
        "X_text = vectorizer.fit_transform(df['controles'])\n",
        "\n",
        "# Unir las características de texto con los riesgos\n",
        "X = np.hstack((X_text.toarray(), df[columnas_riesgo].values))\n",
        "y = df[columnas_riesgo]  # y contendrá 5 columnas (una por cada riesgo)\n",
        "\n",
        "# Dividir en conjuntos de entrenamiento y prueba\n",
        "X_train, X_test, y_train, y_test = train_test_split(X, y, test_size=0.2, random_state=42)\n",
        "\n",
        "# Entrenar el modelo con MultiOutputClassifier para multietiqueta\n",
        "clf = MultiOutputClassifier(RandomForestClassifier(n_estimators=100, random_state=42))\n",
        "clf.fit(X_train, y_train)\n",
        "\n",
        "# Evaluación del modelo\n",
        "y_pred = clf.predict(X_test)\n",
        "\n",
        "# Reporte de clasificación por etiqueta\n",
        "print(classification_report(y_test, y_pred, target_names=columnas_riesgo))\n",
        "\n",
        "# Matriz de confusión para cada etiqueta\n",
        "conf_matrices = multilabel_confusion_matrix(y_test, y_pred)\n",
        "\n",
        "# Visualizar matrices de confusión\n",
        "fig, axes = plt.subplots(1, 5, figsize=(15, 4))\n",
        "for i, ax in enumerate(axes.flat):\n",
        "    sns.heatmap(conf_matrices[i], annot=True, cmap='Blues', fmt='d', ax=ax)\n",
        "    ax.set_title(columnas_riesgo[i])\n",
        "    ax.set_xlabel(\"Predicho\")\n",
        "    ax.set_ylabel(\"Real\")\n",
        "\n",
        "plt.tight_layout()\n",
        "plt.show()\n"
      ]
    },
    {
      "cell_type": "markdown",
      "metadata": {
        "id": "vbS1Lem0vS6V"
      },
      "source": [
        "- Pipeline completo para el Modelo de Machine Learining"
      ]
    },
    {
      "cell_type": "code",
      "execution_count": null,
      "metadata": {
        "id": "rA4TjM7VvS6V",
        "outputId": "e4b94542-223b-491c-dc4d-3655ca98a27d"
      },
      "outputs": [
        {
          "name": "stdout",
          "output_type": "stream",
          "text": [
            "                                           Controles Riesgo 1 Riesgo 2  \\\n",
            "0  Verificar/Corregir observaciones/comentarios d...       Si       No   \n",
            "1              Verificar todos los soportes legales        No       Si   \n",
            "2            Verificar todos los documentos legales        No       Si   \n",
            "3  Verificar si el acuerdo generado cumple las co...       No       No   \n",
            "4  Verificar si el acuerdo firmado cumple condici...       No       No   \n",
            "\n",
            "  Riesgo 3 Riesgo 4 Riesgo 5  \n",
            "0       No       No       No  \n",
            "1       Si       No       No  \n",
            "2       Si       No       No  \n",
            "3       Si       No       No  \n",
            "4       Si       No       No  \n",
            "              precision    recall  f1-score   support\n",
            "\n",
            "           0       0.83      0.22      0.34        23\n",
            "           1       0.75      0.14      0.23        22\n",
            "           2       0.82      0.45      0.58        31\n",
            "           3       1.00      0.11      0.20         9\n",
            "           4       0.00      0.00      0.00         9\n",
            "\n",
            "   micro avg       0.82      0.24      0.38        94\n",
            "   macro avg       0.68      0.18      0.27        94\n",
            "weighted avg       0.75      0.24      0.35        94\n",
            " samples avg       0.22      0.20      0.20        94\n",
            "\n",
            " * Serving Flask app '__main__'\n",
            " * Debug mode: on\n"
          ]
        },
        {
          "name": "stderr",
          "output_type": "stream",
          "text": [
            "c:\\Users\\JOHN\\AppData\\Local\\Programs\\Python\\Python312\\Lib\\site-packages\\sklearn\\metrics\\_classification.py:1565: UndefinedMetricWarning: Precision is ill-defined and being set to 0.0 in labels with no predicted samples. Use `zero_division` parameter to control this behavior.\n",
            "  _warn_prf(average, modifier, f\"{metric.capitalize()} is\", len(result))\n",
            "c:\\Users\\JOHN\\AppData\\Local\\Programs\\Python\\Python312\\Lib\\site-packages\\sklearn\\metrics\\_classification.py:1565: UndefinedMetricWarning: Precision is ill-defined and being set to 0.0 in samples with no predicted labels. Use `zero_division` parameter to control this behavior.\n",
            "  _warn_prf(average, modifier, f\"{metric.capitalize()} is\", len(result))\n",
            "c:\\Users\\JOHN\\AppData\\Local\\Programs\\Python\\Python312\\Lib\\site-packages\\sklearn\\metrics\\_classification.py:1565: UndefinedMetricWarning: Recall is ill-defined and being set to 0.0 in samples with no true labels. Use `zero_division` parameter to control this behavior.\n",
            "  _warn_prf(average, modifier, f\"{metric.capitalize()} is\", len(result))\n",
            "c:\\Users\\JOHN\\AppData\\Local\\Programs\\Python\\Python312\\Lib\\site-packages\\sklearn\\metrics\\_classification.py:1565: UndefinedMetricWarning: F-score is ill-defined and being set to 0.0 in samples with no true nor predicted labels. Use `zero_division` parameter to control this behavior.\n",
            "  _warn_prf(average, modifier, f\"{metric.capitalize()} is\", len(result))\n",
            "WARNING: This is a development server. Do not use it in a production deployment. Use a production WSGI server instead.\n",
            " * Running on http://127.0.0.1:5000\n",
            "Press CTRL+C to quit\n",
            " * Restarting with watchdog (windowsapi)\n"
          ]
        },
        {
          "ename": "SystemExit",
          "evalue": "1",
          "output_type": "error",
          "traceback": [
            "An exception has occurred, use %tb to see the full traceback.\n",
            "\u001b[1;31mSystemExit\u001b[0m\u001b[1;31m:\u001b[0m 1\n"
          ]
        },
        {
          "name": "stderr",
          "output_type": "stream",
          "text": [
            "c:\\Users\\JOHN\\AppData\\Local\\Programs\\Python\\Python312\\Lib\\site-packages\\IPython\\core\\interactiveshell.py:3558: UserWarning: To exit: use 'exit', 'quit', or Ctrl-D.\n",
            "  warn(\"To exit: use 'exit', 'quit', or Ctrl-D.\", stacklevel=1)\n"
          ]
        }
      ],
      "source": [
        "import joblib\n",
        "import os\n",
        "import pandas as pd\n",
        "import numpy as np\n",
        "import seaborn as sns\n",
        "import matplotlib.pyplot as plt\n",
        "from flask import Flask, request, jsonify\n",
        "from sklearn.model_selection import train_test_split\n",
        "from sklearn.feature_extraction.text import TfidfVectorizer\n",
        "from sklearn.ensemble import RandomForestClassifier\n",
        "from sklearn.multioutput import MultiOutputClassifier\n",
        "from sklearn.metrics import classification_report, multilabel_confusion_matrix\n",
        "\n",
        "# 1. Carga de Datos (Data Ingestion)\n",
        "file_path = r\"C:/Users/JOHN/Desktop/PRUEBA TÉCNICA DE SELECCIÓN_BANCOLOMBIA_ JohnA_SotoG/insumo_prueba.xlsx\"\n",
        "df = pd.read_excel(file_path)\n",
        "\n",
        "# Verificar nombres de columnas\n",
        "#print(df.columns)\n",
        "print(df.head())\n",
        "\n",
        "# 2. Preprocesamiento y Transformación de Datos (Data Preprocessing & Transformation)\n",
        "def preprocess_data(df):\n",
        "    df.fillna(\"No\", inplace=True)\n",
        "    df.replace({'Si': 1, 'No': 0}, inplace=True)\n",
        "\n",
        "    # Separar características y etiquetas\n",
        "    X_text = df['Controles']\n",
        "    y = df.iloc[:, 1:]  # Columnas de riesgos\n",
        "\n",
        "    # Vectorización del texto\n",
        "    vectorizer = TfidfVectorizer()\n",
        "    X_transformed = vectorizer.fit_transform(X_text)\n",
        "\n",
        "    return X_transformed, y, vectorizer\n",
        "\n",
        "X, y, vectorizer = preprocess_data(df)\n",
        "X_train, X_test, y_train, y_test = train_test_split(X, y, test_size=0.2, random_state=42)\n",
        "\n",
        "\n",
        "\n",
        "# 3. Entrenamiento del Modelo (Model Training)\n",
        "def train_model(X_train, y_train):\n",
        "    model = RandomForestClassifier(n_estimators=100, random_state=42)\n",
        "    model.fit(X_train, y_train)\n",
        "    return model\n",
        "\n",
        "model = train_model(X_train, y_train)\n",
        "joblib.dump(model, 'C:/Users/JOHN/Desktop/PRUEBA TÉCNICA DE SELECCIÓN_BANCOLOMBIA_ JohnA_SotoG/model.pkl')\n",
        "joblib.dump(vectorizer, 'C:/Users/JOHN/Desktop/PRUEBA TÉCNICA DE SELECCIÓN_BANCOLOMBIA_ JohnA_SotoG/vectorizer.pkl')\n",
        "\n",
        "\n",
        "# 4. Validación del Modelo (Model Validation)\n",
        "def evaluate_model(model, X_test, y_test):\n",
        "    y_pred = model.predict(X_test)\n",
        "    report = classification_report(y_test, y_pred)\n",
        "    print(report)\n",
        "\n",
        "evaluate_model(model, X_test, y_test)\n",
        "\n",
        "# 5. Despliegue del Modelo (Model Deployment)\n",
        "app = Flask(__name__)\n",
        "\n",
        "@app.route('/predict', methods=['POST'])\n",
        "def predict():\n",
        "    data = request.json['control']\n",
        "    vectorizer = joblib.load('models/vectorizer.pkl')\n",
        "    model = joblib.load('models/model.pkl')\n",
        "\n",
        "    X_input = vectorizer.transform([data])\n",
        "    prediction = model.predict(X_input)\n",
        "\n",
        "    return jsonify({'prediction': prediction.tolist()})\n",
        "\n",
        "if __name__ == '__main__':\n",
        "    app.run(debug=True)\n"
      ]
    },
    {
      "cell_type": "markdown",
      "metadata": {
        "id": "4XZbKREevS6W"
      },
      "source": [
        "Lo que puedo inferir sobre las métricas (precision, recall y f1-score) son muy bajas para algunas clases, lo que indica que el modelo no está aprendiendo correctamente a clasificar los riesgos"
      ]
    },
    {
      "cell_type": "code",
      "execution_count": null,
      "metadata": {
        "id": "w1wIPo9JvS6X",
        "outputId": "1e1be64d-89f0-43f0-b77b-5f5ee0400429"
      },
      "outputs": [
        {
          "name": "stdout",
          "output_type": "stream",
          "text": [
            "                                           Controles Riesgo 1 Riesgo 2  \\\n",
            "0  Verificar/Corregir observaciones/comentarios d...       Si       No   \n",
            "1              Verificar todos los soportes legales        No       Si   \n",
            "2            Verificar todos los documentos legales        No       Si   \n",
            "3  Verificar si el acuerdo generado cumple las co...       No       No   \n",
            "4  Verificar si el acuerdo firmado cumple condici...       No       No   \n",
            "\n",
            "  Riesgo 3 Riesgo 4 Riesgo 5  \n",
            "0       No       No       No  \n",
            "1       Si       No       No  \n",
            "2       Si       No       No  \n",
            "3       Si       No       No  \n",
            "4       Si       No       No  \n",
            "              precision    recall  f1-score   support\n",
            "\n",
            "           0       1.00      0.22      0.36        23\n",
            "           1       1.00      0.14      0.24        22\n",
            "           2       0.88      0.45      0.60        31\n",
            "           3       0.00      0.00      0.00         9\n",
            "           4       0.00      0.00      0.00         9\n",
            "\n",
            "   micro avg       0.92      0.23      0.37        94\n",
            "   macro avg       0.57      0.16      0.24        94\n",
            "weighted avg       0.77      0.23      0.34        94\n",
            " samples avg       0.21      0.18      0.19        94\n",
            "\n",
            " * Serving Flask app '__main__'\n",
            " * Debug mode: on\n"
          ]
        },
        {
          "name": "stderr",
          "output_type": "stream",
          "text": [
            "c:\\Users\\JOHN\\AppData\\Local\\Programs\\Python\\Python312\\Lib\\site-packages\\sklearn\\metrics\\_classification.py:1565: UndefinedMetricWarning: Precision is ill-defined and being set to 0.0 in labels with no predicted samples. Use `zero_division` parameter to control this behavior.\n",
            "  _warn_prf(average, modifier, f\"{metric.capitalize()} is\", len(result))\n",
            "c:\\Users\\JOHN\\AppData\\Local\\Programs\\Python\\Python312\\Lib\\site-packages\\sklearn\\metrics\\_classification.py:1565: UndefinedMetricWarning: Precision is ill-defined and being set to 0.0 in samples with no predicted labels. Use `zero_division` parameter to control this behavior.\n",
            "  _warn_prf(average, modifier, f\"{metric.capitalize()} is\", len(result))\n",
            "c:\\Users\\JOHN\\AppData\\Local\\Programs\\Python\\Python312\\Lib\\site-packages\\sklearn\\metrics\\_classification.py:1565: UndefinedMetricWarning: Recall is ill-defined and being set to 0.0 in samples with no true labels. Use `zero_division` parameter to control this behavior.\n",
            "  _warn_prf(average, modifier, f\"{metric.capitalize()} is\", len(result))\n",
            "c:\\Users\\JOHN\\AppData\\Local\\Programs\\Python\\Python312\\Lib\\site-packages\\sklearn\\metrics\\_classification.py:1565: UndefinedMetricWarning: F-score is ill-defined and being set to 0.0 in samples with no true nor predicted labels. Use `zero_division` parameter to control this behavior.\n",
            "  _warn_prf(average, modifier, f\"{metric.capitalize()} is\", len(result))\n",
            "WARNING: This is a development server. Do not use it in a production deployment. Use a production WSGI server instead.\n",
            " * Running on http://127.0.0.1:5000\n",
            "Press CTRL+C to quit\n",
            " * Restarting with watchdog (windowsapi)\n"
          ]
        },
        {
          "ename": "SystemExit",
          "evalue": "1",
          "output_type": "error",
          "traceback": [
            "An exception has occurred, use %tb to see the full traceback.\n",
            "\u001b[1;31mSystemExit\u001b[0m\u001b[1;31m:\u001b[0m 1\n"
          ]
        },
        {
          "name": "stderr",
          "output_type": "stream",
          "text": [
            "c:\\Users\\JOHN\\AppData\\Local\\Programs\\Python\\Python312\\Lib\\site-packages\\IPython\\core\\interactiveshell.py:3558: UserWarning: To exit: use 'exit', 'quit', or Ctrl-D.\n",
            "  warn(\"To exit: use 'exit', 'quit', or Ctrl-D.\", stacklevel=1)\n"
          ]
        }
      ],
      "source": [
        "import joblib\n",
        "import os\n",
        "import pandas as pd\n",
        "import numpy as np\n",
        "import seaborn as sns\n",
        "import matplotlib.pyplot as plt\n",
        "from flask import Flask, request, jsonify\n",
        "from sklearn.model_selection import train_test_split\n",
        "from sklearn.feature_extraction.text import TfidfVectorizer\n",
        "from sklearn.ensemble import RandomForestClassifier\n",
        "from sklearn.multiclass import OneVsRestClassifier\n",
        "from sklearn.metrics import classification_report, multilabel_confusion_matrix\n",
        "\n",
        "# 1. Carga de Datos (Data Ingestion)\n",
        "file_path = r\"C:/Users/JOHN/Desktop/PRUEBA TÉCNICA DE SELECCIÓN_BANCOLOMBIA_ JohnA_SotoG/insumo_prueba.xlsx\"\n",
        "df = pd.read_excel(file_path)\n",
        "\n",
        "# Verificar nombres de columnas\n",
        "print(df.head())\n",
        "\n",
        "# 2. Preprocesamiento y Transformación de Datos (Data Preprocessing & Transformation)\n",
        "def preprocess_data(df):\n",
        "    df.fillna(\"No\", inplace=True)\n",
        "    df.replace({'Si': 1, 'No': 0}, inplace=True)\n",
        "\n",
        "    # Separar características y etiquetas\n",
        "    X_text = df['Controles']\n",
        "    y = df.iloc[:, 1:]  # Columnas de riesgos\n",
        "\n",
        "    # Vectorización del texto\n",
        "    vectorizer = TfidfVectorizer()\n",
        "    X_transformed = vectorizer.fit_transform(X_text)\n",
        "\n",
        "    return X_transformed, y, vectorizer\n",
        "\n",
        "X, y, vectorizer = preprocess_data(df)\n",
        "X_train, X_test, y_train, y_test = train_test_split(X, y, test_size=0.2, random_state=42)\n",
        "\n",
        "# 3. Entrenamiento del Modelo (Model Training) usando OneVsRestClassifier\n",
        "def train_model(X_train, y_train):\n",
        "    base_model = RandomForestClassifier(n_estimators=100, random_state=42)\n",
        "    model = OneVsRestClassifier(base_model)  # Aplicando OneVsRest\n",
        "    model.fit(X_train, y_train)\n",
        "    return model\n",
        "\n",
        "model = train_model(X_train, y_train)\n",
        "\n",
        "# Guardar modelo y vectorizador\n",
        "joblib.dump(model, 'C:/Users/JOHN/Desktop/PRUEBA TÉCNICA DE SELECCIÓN_BANCOLOMBIA_ JohnA_SotoG/model.pkl')\n",
        "joblib.dump(vectorizer, 'C:/Users/JOHN/Desktop/PRUEBA TÉCNICA DE SELECCIÓN_BANCOLOMBIA_ JohnA_SotoG/vectorizer.pkl')\n",
        "\n",
        "# 4. Validación del Modelo (Model Validation)\n",
        "def evaluate_model(model, X_test, y_test):\n",
        "    y_pred = model.predict(X_test)\n",
        "    report = classification_report(y_test, y_pred)\n",
        "    print(report)\n",
        "\n",
        "evaluate_model(model, X_test, y_test)\n",
        "\n",
        "# 5. Despliegue del Modelo (Model Deployment)\n",
        "app = Flask(__name__)\n",
        "\n",
        "@app.route('/predict', methods=['POST'])\n",
        "def predict():\n",
        "    data = request.json['control']\n",
        "    vectorizer = joblib.load('C:/Users/JOHN/Desktop/PRUEBA TÉCNICA DE SELECCIÓN_BANCOLOMBIA_ JohnA_SotoG/vectorizer.pkl')\n",
        "    model = joblib.load('C:/Users/JOHN/Desktop/PRUEBA TÉCNICA DE SELECCIÓN_BANCOLOMBIA_ JohnA_SotoG/model.pkl')\n",
        "\n",
        "    X_input = vectorizer.transform([data])\n",
        "    prediction = model.predict(X_input)\n",
        "\n",
        "    return jsonify({'prediction': prediction.tolist()})\n",
        "\n",
        "if __name__ == '__main__':\n",
        "    app.run(debug=True)\n"
      ]
    },
    {
      "cell_type": "code",
      "execution_count": null,
      "metadata": {
        "id": "pqJCtwzwvS6Y",
        "outputId": "b8edb849-09af-4458-c556-0ebb10282ef5"
      },
      "outputs": [
        {
          "name": "stdout",
          "output_type": "stream",
          "text": [
            "                                           Controles Riesgo 1 Riesgo 2  \\\n",
            "0  Verificar/Corregir observaciones/comentarios d...       Si       No   \n",
            "1              Verificar todos los soportes legales        No       Si   \n",
            "2            Verificar todos los documentos legales        No       Si   \n",
            "3  Verificar si el acuerdo generado cumple las co...       No       No   \n",
            "4  Verificar si el acuerdo firmado cumple condici...       No       No   \n",
            "\n",
            "  Riesgo 3 Riesgo 4 Riesgo 5  \n",
            "0       No       No       No  \n",
            "1       Si       No       No  \n",
            "2       Si       No       No  \n",
            "3       Si       No       No  \n",
            "4       Si       No       No  \n"
          ]
        },
        {
          "ename": "ValueError",
          "evalue": "Imbalanced-learn currently supports binary, multiclass and binarized encoded multiclasss targets. Multilabel and multioutput targets are not supported.",
          "output_type": "error",
          "traceback": [
            "\u001b[1;31m---------------------------------------------------------------------------\u001b[0m",
            "\u001b[1;31mValueError\u001b[0m                                Traceback (most recent call last)",
            "Cell \u001b[1;32mIn[87], line 43\u001b[0m\n\u001b[0;32m     41\u001b[0m \u001b[38;5;66;03m# Aplicar SMOTE para balancear clases\u001b[39;00m\n\u001b[0;32m     42\u001b[0m smote \u001b[38;5;241m=\u001b[39m SMOTE(random_state\u001b[38;5;241m=\u001b[39m\u001b[38;5;241m42\u001b[39m)\n\u001b[1;32m---> 43\u001b[0m X_train_balanced, y_train_balanced \u001b[38;5;241m=\u001b[39m \u001b[43msmote\u001b[49m\u001b[38;5;241;43m.\u001b[39;49m\u001b[43mfit_resample\u001b[49m\u001b[43m(\u001b[49m\u001b[43mX_train\u001b[49m\u001b[43m,\u001b[49m\u001b[43m \u001b[49m\u001b[43my_train\u001b[49m\u001b[43m)\u001b[49m\n\u001b[0;32m     45\u001b[0m \u001b[38;5;66;03m# 3. Entrenamiento del Modelo con OneVsRestClassifier\u001b[39;00m\n\u001b[0;32m     46\u001b[0m \u001b[38;5;28;01mdef\u001b[39;00m \u001b[38;5;21mtrain_model\u001b[39m(X_train, y_train):\n",
            "File \u001b[1;32mc:\\Users\\JOHN\\AppData\\Local\\Programs\\Python\\Python312\\Lib\\site-packages\\imblearn\\base.py:202\u001b[0m, in \u001b[0;36mBaseSampler.fit_resample\u001b[1;34m(self, X, y, **params)\u001b[0m\n\u001b[0;32m    181\u001b[0m \u001b[38;5;28;01mdef\u001b[39;00m \u001b[38;5;21mfit_resample\u001b[39m(\u001b[38;5;28mself\u001b[39m, X, y, \u001b[38;5;241m*\u001b[39m\u001b[38;5;241m*\u001b[39mparams):\n\u001b[0;32m    182\u001b[0m \u001b[38;5;250m    \u001b[39m\u001b[38;5;124;03m\"\"\"Resample the dataset.\u001b[39;00m\n\u001b[0;32m    183\u001b[0m \n\u001b[0;32m    184\u001b[0m \u001b[38;5;124;03m    Parameters\u001b[39;00m\n\u001b[1;32m   (...)\u001b[0m\n\u001b[0;32m    200\u001b[0m \u001b[38;5;124;03m        The corresponding label of `X_resampled`.\u001b[39;00m\n\u001b[0;32m    201\u001b[0m \u001b[38;5;124;03m    \"\"\"\u001b[39;00m\n\u001b[1;32m--> 202\u001b[0m     \u001b[38;5;28;01mreturn\u001b[39;00m \u001b[38;5;28;43msuper\u001b[39;49m\u001b[43m(\u001b[49m\u001b[43m)\u001b[49m\u001b[38;5;241;43m.\u001b[39;49m\u001b[43mfit_resample\u001b[49m\u001b[43m(\u001b[49m\u001b[43mX\u001b[49m\u001b[43m,\u001b[49m\u001b[43m \u001b[49m\u001b[43my\u001b[49m\u001b[43m,\u001b[49m\u001b[43m \u001b[49m\u001b[38;5;241;43m*\u001b[39;49m\u001b[38;5;241;43m*\u001b[39;49m\u001b[43mparams\u001b[49m\u001b[43m)\u001b[49m\n",
            "File \u001b[1;32mc:\\Users\\JOHN\\AppData\\Local\\Programs\\Python\\Python312\\Lib\\site-packages\\sklearn\\base.py:1389\u001b[0m, in \u001b[0;36m_fit_context.<locals>.decorator.<locals>.wrapper\u001b[1;34m(estimator, *args, **kwargs)\u001b[0m\n\u001b[0;32m   1382\u001b[0m     estimator\u001b[38;5;241m.\u001b[39m_validate_params()\n\u001b[0;32m   1384\u001b[0m \u001b[38;5;28;01mwith\u001b[39;00m config_context(\n\u001b[0;32m   1385\u001b[0m     skip_parameter_validation\u001b[38;5;241m=\u001b[39m(\n\u001b[0;32m   1386\u001b[0m         prefer_skip_nested_validation \u001b[38;5;129;01mor\u001b[39;00m global_skip_validation\n\u001b[0;32m   1387\u001b[0m     )\n\u001b[0;32m   1388\u001b[0m ):\n\u001b[1;32m-> 1389\u001b[0m     \u001b[38;5;28;01mreturn\u001b[39;00m \u001b[43mfit_method\u001b[49m\u001b[43m(\u001b[49m\u001b[43mestimator\u001b[49m\u001b[43m,\u001b[49m\u001b[43m \u001b[49m\u001b[38;5;241;43m*\u001b[39;49m\u001b[43margs\u001b[49m\u001b[43m,\u001b[49m\u001b[43m \u001b[49m\u001b[38;5;241;43m*\u001b[39;49m\u001b[38;5;241;43m*\u001b[39;49m\u001b[43mkwargs\u001b[49m\u001b[43m)\u001b[49m\n",
            "File \u001b[1;32mc:\\Users\\JOHN\\AppData\\Local\\Programs\\Python\\Python312\\Lib\\site-packages\\imblearn\\base.py:99\u001b[0m, in \u001b[0;36mSamplerMixin.fit_resample\u001b[1;34m(self, X, y, **params)\u001b[0m\n\u001b[0;32m     97\u001b[0m check_classification_targets(y)\n\u001b[0;32m     98\u001b[0m arrays_transformer \u001b[38;5;241m=\u001b[39m ArraysTransformer(X, y)\n\u001b[1;32m---> 99\u001b[0m X, y, binarize_y \u001b[38;5;241m=\u001b[39m \u001b[38;5;28;43mself\u001b[39;49m\u001b[38;5;241;43m.\u001b[39;49m\u001b[43m_check_X_y\u001b[49m\u001b[43m(\u001b[49m\u001b[43mX\u001b[49m\u001b[43m,\u001b[49m\u001b[43m \u001b[49m\u001b[43my\u001b[49m\u001b[43m)\u001b[49m\n\u001b[0;32m    101\u001b[0m \u001b[38;5;28mself\u001b[39m\u001b[38;5;241m.\u001b[39msampling_strategy_ \u001b[38;5;241m=\u001b[39m check_sampling_strategy(\n\u001b[0;32m    102\u001b[0m     \u001b[38;5;28mself\u001b[39m\u001b[38;5;241m.\u001b[39msampling_strategy, y, \u001b[38;5;28mself\u001b[39m\u001b[38;5;241m.\u001b[39m_sampling_type\n\u001b[0;32m    103\u001b[0m )\n\u001b[0;32m    105\u001b[0m output \u001b[38;5;241m=\u001b[39m \u001b[38;5;28mself\u001b[39m\u001b[38;5;241m.\u001b[39m_fit_resample(X, y, \u001b[38;5;241m*\u001b[39m\u001b[38;5;241m*\u001b[39mparams)\n",
            "File \u001b[1;32mc:\\Users\\JOHN\\AppData\\Local\\Programs\\Python\\Python312\\Lib\\site-packages\\imblearn\\base.py:156\u001b[0m, in \u001b[0;36mBaseSampler._check_X_y\u001b[1;34m(self, X, y, accept_sparse)\u001b[0m\n\u001b[0;32m    154\u001b[0m \u001b[38;5;28;01mif\u001b[39;00m accept_sparse \u001b[38;5;129;01mis\u001b[39;00m \u001b[38;5;28;01mNone\u001b[39;00m:\n\u001b[0;32m    155\u001b[0m     accept_sparse \u001b[38;5;241m=\u001b[39m [\u001b[38;5;124m\"\u001b[39m\u001b[38;5;124mcsr\u001b[39m\u001b[38;5;124m\"\u001b[39m, \u001b[38;5;124m\"\u001b[39m\u001b[38;5;124mcsc\u001b[39m\u001b[38;5;124m\"\u001b[39m]\n\u001b[1;32m--> 156\u001b[0m y, binarize_y \u001b[38;5;241m=\u001b[39m \u001b[43mcheck_target_type\u001b[49m\u001b[43m(\u001b[49m\u001b[43my\u001b[49m\u001b[43m,\u001b[49m\u001b[43m \u001b[49m\u001b[43mindicate_one_vs_all\u001b[49m\u001b[38;5;241;43m=\u001b[39;49m\u001b[38;5;28;43;01mTrue\u001b[39;49;00m\u001b[43m)\u001b[49m\n\u001b[0;32m    157\u001b[0m X, y \u001b[38;5;241m=\u001b[39m validate_data(\u001b[38;5;28mself\u001b[39m, X\u001b[38;5;241m=\u001b[39mX, y\u001b[38;5;241m=\u001b[39my, reset\u001b[38;5;241m=\u001b[39m\u001b[38;5;28;01mTrue\u001b[39;00m, accept_sparse\u001b[38;5;241m=\u001b[39maccept_sparse)\n\u001b[0;32m    158\u001b[0m \u001b[38;5;28;01mreturn\u001b[39;00m X, y, binarize_y\n",
            "File \u001b[1;32mc:\\Users\\JOHN\\AppData\\Local\\Programs\\Python\\Python312\\Lib\\site-packages\\imblearn\\utils\\_validation.py:177\u001b[0m, in \u001b[0;36mcheck_target_type\u001b[1;34m(y, indicate_one_vs_all)\u001b[0m\n\u001b[0;32m    175\u001b[0m \u001b[38;5;28;01mif\u001b[39;00m type_y \u001b[38;5;241m==\u001b[39m \u001b[38;5;124m\"\u001b[39m\u001b[38;5;124mmultilabel-indicator\u001b[39m\u001b[38;5;124m\"\u001b[39m:\n\u001b[0;32m    176\u001b[0m     \u001b[38;5;28;01mif\u001b[39;00m np\u001b[38;5;241m.\u001b[39many(y\u001b[38;5;241m.\u001b[39msum(axis\u001b[38;5;241m=\u001b[39m\u001b[38;5;241m1\u001b[39m) \u001b[38;5;241m>\u001b[39m \u001b[38;5;241m1\u001b[39m):\n\u001b[1;32m--> 177\u001b[0m         \u001b[38;5;28;01mraise\u001b[39;00m \u001b[38;5;167;01mValueError\u001b[39;00m(\n\u001b[0;32m    178\u001b[0m             \u001b[38;5;124m\"\u001b[39m\u001b[38;5;124mImbalanced-learn currently supports binary, multiclass and \u001b[39m\u001b[38;5;124m\"\u001b[39m\n\u001b[0;32m    179\u001b[0m             \u001b[38;5;124m\"\u001b[39m\u001b[38;5;124mbinarized encoded multiclasss targets. Multilabel and \u001b[39m\u001b[38;5;124m\"\u001b[39m\n\u001b[0;32m    180\u001b[0m             \u001b[38;5;124m\"\u001b[39m\u001b[38;5;124mmultioutput targets are not supported.\u001b[39m\u001b[38;5;124m\"\u001b[39m\n\u001b[0;32m    181\u001b[0m         )\n\u001b[0;32m    182\u001b[0m     y \u001b[38;5;241m=\u001b[39m y\u001b[38;5;241m.\u001b[39margmax(axis\u001b[38;5;241m=\u001b[39m\u001b[38;5;241m1\u001b[39m)\n\u001b[0;32m    183\u001b[0m \u001b[38;5;28;01melse\u001b[39;00m:\n",
            "\u001b[1;31mValueError\u001b[0m: Imbalanced-learn currently supports binary, multiclass and binarized encoded multiclasss targets. Multilabel and multioutput targets are not supported."
          ]
        }
      ],
      "source": [
        "import joblib\n",
        "import os\n",
        "import pandas as pd\n",
        "import numpy as np\n",
        "import seaborn as sns\n",
        "import matplotlib.pyplot as plt\n",
        "from flask import Flask, request, jsonify\n",
        "from sklearn.model_selection import train_test_split\n",
        "from sklearn.feature_extraction.text import TfidfVectorizer\n",
        "from sklearn.ensemble import RandomForestClassifier\n",
        "from sklearn.multiclass import OneVsRestClassifier\n",
        "from sklearn.metrics import classification_report, multilabel_confusion_matrix\n",
        "from imblearn.over_sampling import SMOTE\n",
        "\n",
        "\n",
        "# 1. Carga de Datos\n",
        "file_path = r\"C:/Users/JOHN/Desktop/PRUEBA TÉCNICA DE SELECCIÓN_BANCOLOMBIA_ JohnA_SotoG/insumo_prueba.xlsx\"\n",
        "df = pd.read_excel(file_path)\n",
        "\n",
        "print(df.head())  # Para verificar los datos\n",
        "\n",
        "# 2. Preprocesamiento y Transformación de Datos\n",
        "def preprocess_data(df):\n",
        "    df.fillna(\"No\", inplace=True)\n",
        "    df.replace({'Si': 1, 'No': 0}, inplace=True)\n",
        "\n",
        "    X_text = df['Controles']\n",
        "    y = df.iloc[:, 1:]  # Columnas de riesgos\n",
        "\n",
        "    # Vectorización del texto optimizada\n",
        "    vectorizer = TfidfVectorizer(max_features=5000, ngram_range=(1, 2), stop_words='english')\n",
        "    X_transformed = vectorizer.fit_transform(X_text)\n",
        "\n",
        "    return X_transformed, y, vectorizer\n",
        "\n",
        "X, y, vectorizer = preprocess_data(df)\n",
        "\n",
        "# División en entrenamiento y prueba\n",
        "X_train, X_test, y_train, y_test = train_test_split(X, y, test_size=0.2, random_state=42)\n",
        "\n",
        "# Aplicar SMOTE para balancear clases\n",
        "smote = SMOTE(random_state=42)\n",
        "X_train_balanced, y_train_balanced = smote.fit_resample(X_train, y_train)\n",
        "\n",
        "# 3. Entrenamiento del Modelo con OneVsRestClassifier\n",
        "def train_model(X_train, y_train):\n",
        "    base_model = RandomForestClassifier(\n",
        "        n_estimators=300,  # Aumenta los árboles\n",
        "        max_depth=10,  # Controla el sobreajuste\n",
        "        class_weight='balanced',  # Maneja el desbalance de clases\n",
        "        random_state=42\n",
        "    )\n",
        "    model = OneVsRestClassifier(base_model)\n",
        "    model.fit(X_train, y_train)\n",
        "    return model\n",
        "\n",
        "model = train_model(X_train_balanced, y_train_balanced)\n",
        "\n",
        "# Guardar el modelo y el vectorizador\n",
        "joblib.dump(model, 'C:/Users/JOHN/Desktop/PRUEBA_TECNICA_BANCOLOMBIA/model.pkl')\n",
        "joblib.dump(vectorizer, 'C:/Users/JOHN/Desktop/PRUEBA_TECNICA_BANCOLOMBIA/vectorizer.pkl')\n",
        "\n",
        "# 4. Validación del Modelo\n",
        "def evaluate_model(model, X_test, y_test):\n",
        "    y_pred = model.predict(X_test)\n",
        "    report = classification_report(y_test, y_pred)\n",
        "    print(report)\n",
        "\n",
        "evaluate_model(model, X_test, y_test)\n",
        "\n",
        "# 5. Despliegue del Modelo con Flask\n",
        "app = Flask(__name__)\n",
        "\n",
        "@app.route('/predict', methods=['POST'])\n",
        "def predict():\n",
        "    data = request.json['control']\n",
        "    vectorizer = joblib.load('C:/Users/JOHN/Desktop/PRUEBA TÉCNICA DE SELECCIÓN_BANCOLOMBIA_ JohnA_SotoG/vectorizer.pkl')\n",
        "    model = joblib.load('C:/Users/JOHN/Desktop/PRUEBA TÉCNICA DE SELECCIÓN_BANCOLOMBIA_ JohnA_SotoG/model.pkl')\n",
        "\n",
        "    X_input = vectorizer.transform([data])\n",
        "    prediction = model.predict(X_input)\n",
        "\n",
        "    return jsonify({'prediction': prediction.tolist()})\n",
        "\n",
        "if __name__ == '__main__':\n",
        "    app.run(debug=True)"
      ]
    },
    {
      "cell_type": "markdown",
      "metadata": {
        "id": "pdbHTcA7vS6Z"
      },
      "source": [
        "- Entrenamos, validamos y desplegamos el modelo utilizando Random Forest y Gradio para la inferencia\n",
        "\n",
        "El flujo será:\n",
        "\n",
        "Preprocesamiento: Convertir \"Si\"/\"No\" en 1/0.\n",
        "\n",
        "División de datos: Separar en entrenamiento y prueba.\n",
        "\n",
        "Entrenamiento y validación: Entrenamos un modelo de Random Forest y evaluamos su rendimiento.\n",
        "\n",
        "Despliegue: Creamos una interfaz con Gradio para probar el modelo."
      ]
    },
    {
      "cell_type": "code",
      "execution_count": null,
      "metadata": {
        "id": "-inBIx_MvS6Z",
        "outputId": "5b19daff-fab7-4e1f-babf-3cd05e83bb56"
      },
      "outputs": [
        {
          "name": "stdout",
          "output_type": "stream",
          "text": [
            "                                           Controles Riesgo 1 Riesgo 2  \\\n",
            "0  Verificar/Corregir observaciones/comentarios d...       Si       No   \n",
            "1              Verificar todos los soportes legales        No       Si   \n",
            "2            Verificar todos los documentos legales        No       Si   \n",
            "3  Verificar si el acuerdo generado cumple las co...       No       No   \n",
            "4  Verificar si el acuerdo firmado cumple condici...       No       No   \n",
            "\n",
            "  Riesgo 3 Riesgo 4 Riesgo 5  \n",
            "0       No       No       No  \n",
            "1       Si       No       No  \n",
            "2       Si       No       No  \n",
            "3       Si       No       No  \n",
            "4       Si       No       No  \n"
          ]
        },
        {
          "name": "stderr",
          "output_type": "stream",
          "text": [
            "C:\\Users\\JOHN\\AppData\\Local\\Temp\\ipykernel_8548\\1378523384.py:14: FutureWarning: DataFrame.applymap has been deprecated. Use DataFrame.map instead.\n",
            "  data = df.applymap(lambda x: 1 if x == \"Si\" else 0 if x == \"No\" else x)\n"
          ]
        }
      ],
      "source": [
        "import pandas as pd\n",
        "import numpy as np\n",
        "from sklearn.model_selection import train_test_split\n",
        "from sklearn.ensemble import RandomForestClassifier\n",
        "from sklearn.metrics import accuracy_score, classification_report\n",
        "import gradio as gr\n",
        "\n",
        "# 1. Carga de Datos\n",
        "file_path = r\"C:/Users/JOHN/Desktop/PRUEBA TÉCNICA DE SELECCIÓN_BANCOLOMBIA_ JohnA_SotoG/insumo_prueba.xlsx\"\n",
        "df = pd.read_excel(file_path)\n",
        "\n",
        "print(df.head())  # Para verificar los datos\n",
        "# Preprocesamiento: Convertir \"Si\" en 1 y \"No\" en 0\n",
        "data = df.applymap(lambda x: 1 if x == \"Si\" else 0 if x == \"No\" else x)\n",
        "\n",
        "# Separar características y variable objetivo\n",
        "X = data.iloc[:, 1:]  # Todas las columnas excepto la primera (Controles)\n",
        "y = X.max(axis=1)  # Crear una variable objetivo (si hay al menos un 1 en los riesgos)\n",
        "\n",
        "# Dividir en entrenamiento y prueba\n",
        "X_train, X_test, y_train, y_test = train_test_split(X, y, test_size=0.2, random_state=42)"
      ]
    },
    {
      "cell_type": "code",
      "execution_count": null,
      "metadata": {
        "id": "g2VwwyQ9vS6Z",
        "outputId": "9ed3d9ff-2616-4e0b-f251-68c533d91f77"
      },
      "outputs": [
        {
          "name": "stdout",
          "output_type": "stream",
          "text": [
            "Accuracy: 1.0\n",
            "              precision    recall  f1-score   support\n",
            "\n",
            "           0       1.00      1.00      1.00        20\n",
            "           1       1.00      1.00      1.00        67\n",
            "\n",
            "    accuracy                           1.00        87\n",
            "   macro avg       1.00      1.00      1.00        87\n",
            "weighted avg       1.00      1.00      1.00        87\n",
            "\n",
            "* Running on local URL:  http://127.0.0.1:7860\n",
            "\n",
            "To create a public link, set `share=True` in `launch()`.\n"
          ]
        },
        {
          "data": {
            "text/html": [
              "<div><iframe src=\"http://127.0.0.1:7860/\" width=\"100%\" height=\"500\" allow=\"autoplay; camera; microphone; clipboard-read; clipboard-write;\" frameborder=\"0\" allowfullscreen></iframe></div>"
            ],
            "text/plain": [
              "<IPython.core.display.HTML object>"
            ]
          },
          "metadata": {},
          "output_type": "display_data"
        },
        {
          "data": {
            "text/plain": []
          },
          "execution_count": 90,
          "metadata": {},
          "output_type": "execute_result"
        },
        {
          "name": "stderr",
          "output_type": "stream",
          "text": [
            "c:\\Users\\JOHN\\AppData\\Local\\Programs\\Python\\Python312\\Lib\\site-packages\\sklearn\\utils\\validation.py:2739: UserWarning: X does not have valid feature names, but RandomForestClassifier was fitted with feature names\n",
            "  warnings.warn(\n",
            "c:\\Users\\JOHN\\AppData\\Local\\Programs\\Python\\Python312\\Lib\\site-packages\\sklearn\\utils\\validation.py:2739: UserWarning: X does not have valid feature names, but RandomForestClassifier was fitted with feature names\n",
            "  warnings.warn(\n"
          ]
        },
        {
          "name": "stdout",
          "output_type": "stream",
          "text": [
            "Created dataset file at: .gradio\\flagged\\dataset1.csv\n"
          ]
        },
        {
          "name": "stderr",
          "output_type": "stream",
          "text": [
            "c:\\Users\\JOHN\\AppData\\Local\\Programs\\Python\\Python312\\Lib\\site-packages\\sklearn\\utils\\validation.py:2739: UserWarning: X does not have valid feature names, but RandomForestClassifier was fitted with feature names\n",
            "  warnings.warn(\n",
            "c:\\Users\\JOHN\\AppData\\Local\\Programs\\Python\\Python312\\Lib\\site-packages\\sklearn\\utils\\validation.py:2739: UserWarning: X does not have valid feature names, but RandomForestClassifier was fitted with feature names\n",
            "  warnings.warn(\n"
          ]
        }
      ],
      "source": [
        "\n",
        "# Entrenar el modelo\n",
        "clf = RandomForestClassifier(n_estimators=100, random_state=42)\n",
        "clf.fit(X_train, y_train)\n",
        "\n",
        "# Validación\n",
        "y_pred = clf.predict(X_test)\n",
        "print(\"Accuracy:\", accuracy_score(y_test, y_pred))\n",
        "print(classification_report(y_test, y_pred))\n",
        "\n",
        "# Función de predicción para Gradio\n",
        "def predict(*features):\n",
        "    input_data = np.array(features).reshape(1, -1)\n",
        "    prediction = clf.predict(input_data)\n",
        "    return \"Riesgo detectado\" if prediction[0] == 1 else \"No hay riesgo\"\n",
        "\n",
        "# Crear la interfaz de usuario con Gradio\n",
        "input_labels = list(X.columns)\n",
        "iface = gr.Interface(\n",
        "    fn=predict,\n",
        "    inputs=[gr.Checkbox(label=col) for col in input_labels],\n",
        "    outputs=\"text\",\n",
        "    title=\"Clasificación de Riesgos\",\n",
        "    description=\"Selecciona las características para evaluar si hay un riesgo.\"\n",
        ")\n",
        "\n",
        "# Ejecutar la app\n",
        "iface.launch()"
      ]
    },
    {
      "cell_type": "markdown",
      "metadata": {
        "id": "ZOD4gXmovS6a"
      },
      "source": [
        "Importación de librerías"
      ]
    },
    {
      "cell_type": "code",
      "execution_count": null,
      "metadata": {
        "id": "P8uUFkLwvS6a"
      },
      "outputs": [],
      "source": [
        "import pandas as pd\n",
        "import numpy as np\n",
        "from sklearn.model_selection import train_test_split, KFold, cross_val_score\n",
        "from sklearn.ensemble import RandomForestClassifier\n",
        "from sklearn.feature_extraction.text import TfidfVectorizer\n",
        "from sklearn.pipeline import make_pipeline\n",
        "from sklearn.preprocessing import MultiLabelBinarizer\n",
        "from nltk.tokenize import word_tokenize\n",
        "from nltk.corpus import stopwords\n",
        "from sklearn.metrics import accuracy_score, classification_report\n",
        "import re\n",
        "import gradio as gr"
      ]
    },
    {
      "cell_type": "markdown",
      "metadata": {
        "id": "lLyuA2abvS6a"
      },
      "source": [
        "Carga de datos"
      ]
    },
    {
      "cell_type": "code",
      "execution_count": null,
      "metadata": {
        "id": "tPLFP3xuvS6a",
        "outputId": "a7f19ac9-fe74-488c-a8d1-25b4ae79ed4b"
      },
      "outputs": [
        {
          "name": "stdout",
          "output_type": "stream",
          "text": [
            "                                           controles riesgo_1 riesgo_2  \\\n",
            "0  Verificar/Corregir observaciones/comentarios d...       Si       No   \n",
            "1              Verificar todos los soportes legales        No       Si   \n",
            "2            Verificar todos los documentos legales        No       Si   \n",
            "3  Verificar si el acuerdo generado cumple las co...       No       No   \n",
            "4  Verificar si el acuerdo firmado cumple condici...       No       No   \n",
            "\n",
            "  riesgo_3 riesgo_4 riesgo_5  \n",
            "0       No       No       No  \n",
            "1       Si       No       No  \n",
            "2       Si       No       No  \n",
            "3       Si       No       No  \n",
            "4       Si       No       No  \n"
          ]
        }
      ],
      "source": [
        "# Definir la ruta del archivo\n",
        "RutaDataSet = r\"C:/Users/JOHN/Desktop/PRUEBA TÉCNICA DE SELECCIÓN_BANCOLOMBIA_ JohnA_SotoG/insumo_prueba.xlsx\"\n",
        "\n",
        "try:\n",
        "    # Cargar y limpiar nombres de columnas en un solo paso\n",
        "    df = pd.read_excel(RutaDataSet)\n",
        "    df.columns = df.columns.str.strip().str.replace(\" \", \"_\").str.lower()\n",
        "except Exception as e:\n",
        "    print(f\"Error al cargar los datos: {e}\")\n",
        "\n",
        "print(df.head())"
      ]
    },
    {
      "cell_type": "markdown",
      "metadata": {
        "id": "WJ9GkeFdvS6b"
      },
      "source": [
        "2. Preprocesamiento y Transformación de Datos"
      ]
    },
    {
      "cell_type": "code",
      "execution_count": null,
      "metadata": {
        "id": "SC_FsLkEvS6b",
        "outputId": "7c18b073-9a5d-4c84-d7a6-1ed96343208a"
      },
      "outputs": [
        {
          "name": "stderr",
          "output_type": "stream",
          "text": [
            "C:\\Users\\JOHN\\AppData\\Local\\Temp\\ipykernel_8548\\4120452432.py:2: FutureWarning: DataFrame.applymap has been deprecated. Use DataFrame.map instead.\n",
            "  df.iloc[:, 1:] = df.iloc[:, 1:].applymap(lambda x: 1 if x.strip().lower() == \"si\" else 0)\n"
          ]
        }
      ],
      "source": [
        "# Convertir los valores \"Si\" y \"No\" a 1 y 0\n",
        "df.iloc[:, 1:] = df.iloc[:, 1:].applymap(lambda x: 1 if x.strip().lower() == \"si\" else 0)\n",
        "\n",
        "# Convertir a formato multietiqueta\n",
        "mlb = MultiLabelBinarizer()\n",
        "y = mlb.fit_transform(df.iloc[:, 1:].values.tolist())"
      ]
    },
    {
      "cell_type": "code",
      "execution_count": null,
      "metadata": {
        "id": "qbgKjo62vS6b",
        "outputId": "f14bd98c-f6e2-48c5-e50b-11e8b2c0a3a8"
      },
      "outputs": [
        {
          "name": "stdout",
          "output_type": "stream",
          "text": [
            "Index(['Controles', 'Riesgo 1', 'Riesgo 2', 'Riesgo 3', 'Riesgo 4',\n",
            "       'Riesgo 5'],\n",
            "      dtype='object')\n",
            "Cross-validation accuracy: 0.7875\n",
            "* Running on local URL:  http://127.0.0.1:7887\n",
            "* Running on public URL: https://deb8e9f1aedaca98ca.gradio.live\n",
            "\n",
            "This share link expires in 72 hours. For free permanent hosting and GPU upgrades, run `gradio deploy` from the terminal in the working directory to deploy to Hugging Face Spaces (https://huggingface.co/spaces)\n"
          ]
        },
        {
          "data": {
            "text/html": [
              "<div><iframe src=\"https://deb8e9f1aedaca98ca.gradio.live\" width=\"100%\" height=\"500\" allow=\"autoplay; camera; microphone; clipboard-read; clipboard-write;\" frameborder=\"0\" allowfullscreen></iframe></div>"
            ],
            "text/plain": [
              "<IPython.core.display.HTML object>"
            ]
          },
          "metadata": {},
          "output_type": "display_data"
        },
        {
          "data": {
            "text/plain": []
          },
          "execution_count": 155,
          "metadata": {},
          "output_type": "execute_result"
        },
        {
          "name": "stdout",
          "output_type": "stream",
          "text": [
            "Created dataset file at: .gradio\\flagged\\dataset1.csv\n"
          ]
        }
      ],
      "source": [
        "print(data.columns)  # Para ver los nombres reales de las columnas\n",
        "\n",
        "# Función para entrenar el modelo\n",
        "def entrenar_modelo():\n",
        "    global pipeline\n",
        "    kf = KFold(n_splits=5, shuffle=True, random_state=42)\n",
        "    pipeline = make_pipeline(TfidfVectorizer(), RandomForestClassifier(n_estimators=100, random_state=42))\n",
        "\n",
        "    # Validación cruzada\n",
        "    scores = cross_val_score(pipeline, X, y, cv=kf, scoring='accuracy')\n",
        "    print(f'Cross-validation accuracy: {np.mean(scores):.4f}')\n",
        "\n",
        "    # Entrenar modelo final\n",
        "    pipeline.fit(X, y)\n",
        "\n",
        "# Función de predicción para Gradio\n",
        "def predict(control_text):\n",
        "    control_row = data[data[\"Controles\"] == control_text]\n",
        "    if not control_row.empty:\n",
        "        associated_risks = control_row.iloc[0, 1:].values.tolist()\n",
        "        risks = [col for col, val in zip(data.columns[1:], associated_risks) if val == 1]  # ✅ Comparar con 1\n",
        "        return f\"Riesgos asociados: {', '.join(risks) if risks else 'Ninguno'}\"\n",
        "    return \"Control no encontrado\"\n",
        "\n",
        "# Definir estilos CSS personalizados\n",
        "custom_css = \"\"\"\n",
        ".gradio-container {\n",
        "    background-color: #808080;\n",
        "    color: white;\n",
        "    font-family: Arial, sans-serif;\n",
        "}\n",
        "\n",
        ".gr-button {\n",
        "    background-color: #FFD700;\n",
        "    color: black !important;\n",
        "}\n",
        "\n",
        ".gr-dropdown {\n",
        "    background-color: black;\n",
        "    color: black !important;\n",
        "}\n",
        "\n",
        ".gr-textbox {\n",
        "    background-color: #879080;\n",
        "    color: black !important;\n",
        "}\n",
        "\"\"\"\n",
        "\n",
        "\n",
        "# Crear la interfaz de usuario con Gradio\n",
        "iface = gr.Interface(\n",
        "    fn=predict,\n",
        "    inputs=gr.Dropdown(choices=X, label=\"Seleccione un control\"),\n",
        "    outputs=gr.Textbox(label=\"Salida\"),\n",
        "    title=\"Clasificación de Controles en Categorías de Riesgo\",\n",
        "    description=\"Seleccione un control y se mostrarán los riesgos asociados.\",\n",
        "    css=custom_css  # Aplicar los estilos\n",
        ")\n",
        "\n",
        "# Entrenar y ejecutar la aplicación\n",
        "entrenar_modelo()\n",
        "iface.launch(share=True)  # `share=True` permite compartir el link públicamente"
      ]
    }
  ],
  "metadata": {
    "kernelspec": {
      "display_name": "Python 3",
      "language": "python",
      "name": "python3"
    },
    "language_info": {
      "codemirror_mode": {
        "name": "ipython",
        "version": 3
      },
      "file_extension": ".py",
      "mimetype": "text/x-python",
      "name": "python",
      "nbconvert_exporter": "python",
      "pygments_lexer": "ipython3",
      "version": "3.12.0"
    },
    "colab": {
      "provenance": [],
      "include_colab_link": true
    }
  },
  "nbformat": 4,
  "nbformat_minor": 0
}